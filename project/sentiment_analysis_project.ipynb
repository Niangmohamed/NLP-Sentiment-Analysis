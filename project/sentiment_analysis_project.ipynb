{
 "cells": [
  {
   "cell_type": "markdown",
   "metadata": {},
   "source": [
    "# Natural Language Processing : Sentiment Analysis with Python"
   ]
  },
  {
   "cell_type": "markdown",
   "metadata": {
    "colab_type": "text",
    "id": "q8VRfjeM5G2P"
   },
   "source": [
    "------------------------------------\n",
    "#### Authors :\n",
    "- Mohamed NIANG\n",
    "- Yao GNONSOU\n",
    "- Hoang Dung NGUYEN\n",
    "-----------------------------------"
   ]
  },
  {
   "cell_type": "markdown",
   "metadata": {},
   "source": [
    "## I. Introduction"
   ]
  },
  {
   "cell_type": "markdown",
   "metadata": {},
   "source": [
    "Dans ce projet, nous fessons face à un probleme de classification supervisé sur des commentaires recoltés sur amazon. <br>Le but ici est de traiter puis d'implémenter différent modeles afin d'en déterminer le meilleur pour faire de la prédiction sur de nouveaux commentaires.\n",
    "\n",
    "les principaux modèles utilisés dans ce TP sont : \n",
    "\n",
    "- **Naïve Bayes Classifier**\n",
    "- **Support Vector Machine Classification**\n",
    "- **K-Nearest Neighbor Classification**\n",
    "- **Artificial Neural Networks**\n",
    "\n",
    "\n",
    "Pour la suite, on effectuera notre analyse suivant le plan ci dessous :\n",
    "\n",
    "![plan](https://user-images.githubusercontent.com/45575893/79023555-e36fb280-7b80-11ea-9e7f-060aee10b0e5.png)"
   ]
  },
  {
   "cell_type": "code",
   "execution_count": 1,
   "metadata": {
    "colab": {
     "base_uri": "https://localhost:8080/",
     "height": 1000
    },
    "colab_type": "code",
    "id": "BF8J8oW9eOUW",
    "outputId": "b9794618-0270-476f-cfd2-f4b500c05b1c"
   },
   "outputs": [
    {
     "name": "stdout",
     "output_type": "stream",
     "text": [
      "Collecting jyquickhelper\n",
      "\u001b[?25l  Downloading https://files.pythonhosted.org/packages/c4/a7/1f1dafac20e80af6c251394aa9770c6691a799018df23c7fe68dc8bac6a0/jyquickhelper-0.3.128-py3-none-any.whl (1.1MB)\n",
      "\u001b[K     |████████████████████████████████| 1.1MB 2.9MB/s eta 0:00:01\n",
      "\u001b[?25hRequirement already satisfied: ipython in /usr/local/lib/python3.6/dist-packages (from jyquickhelper) (5.5.0)\n",
      "Requirement already satisfied: notebook in /usr/local/lib/python3.6/dist-packages (from jyquickhelper) (5.2.2)\n",
      "Requirement already satisfied: jupyter in /usr/local/lib/python3.6/dist-packages (from jyquickhelper) (1.0.0)\n",
      "Requirement already satisfied: decorator in /usr/local/lib/python3.6/dist-packages (from ipython->jyquickhelper) (4.4.1)\n",
      "Requirement already satisfied: simplegeneric>0.8 in /usr/local/lib/python3.6/dist-packages (from ipython->jyquickhelper) (0.8.1)\n",
      "Requirement already satisfied: pexpect; sys_platform != \"win32\" in /usr/local/lib/python3.6/dist-packages (from ipython->jyquickhelper) (4.7.0)\n",
      "Requirement already satisfied: pickleshare in /usr/local/lib/python3.6/dist-packages (from ipython->jyquickhelper) (0.7.5)\n",
      "Requirement already satisfied: setuptools>=18.5 in /usr/local/lib/python3.6/dist-packages (from ipython->jyquickhelper) (42.0.2)\n",
      "Requirement already satisfied: traitlets>=4.2 in /usr/local/lib/python3.6/dist-packages (from ipython->jyquickhelper) (4.3.3)\n",
      "Requirement already satisfied: prompt-toolkit<2.0.0,>=1.0.4 in /usr/local/lib/python3.6/dist-packages (from ipython->jyquickhelper) (1.0.18)\n",
      "Requirement already satisfied: pygments in /usr/local/lib/python3.6/dist-packages (from ipython->jyquickhelper) (2.1.3)\n",
      "Requirement already satisfied: ipykernel in /usr/local/lib/python3.6/dist-packages (from notebook->jyquickhelper) (4.6.1)\n",
      "Requirement already satisfied: ipython-genutils in /usr/local/lib/python3.6/dist-packages (from notebook->jyquickhelper) (0.2.0)\n",
      "Requirement already satisfied: jupyter-core in /usr/local/lib/python3.6/dist-packages (from notebook->jyquickhelper) (4.6.1)\n",
      "Requirement already satisfied: nbformat in /usr/local/lib/python3.6/dist-packages (from notebook->jyquickhelper) (5.0.3)\n",
      "Requirement already satisfied: tornado>=4 in /usr/local/lib/python3.6/dist-packages (from notebook->jyquickhelper) (4.5.3)\n",
      "Requirement already satisfied: nbconvert in /usr/local/lib/python3.6/dist-packages (from notebook->jyquickhelper) (5.6.1)\n",
      "Requirement already satisfied: terminado>=0.3.3; sys_platform != \"win32\" in /usr/local/lib/python3.6/dist-packages (from notebook->jyquickhelper) (0.8.3)\n",
      "Requirement already satisfied: jinja2 in /usr/local/lib/python3.6/dist-packages (from notebook->jyquickhelper) (2.10.3)\n",
      "Requirement already satisfied: jupyter-client in /usr/local/lib/python3.6/dist-packages (from notebook->jyquickhelper) (5.3.4)\n",
      "Requirement already satisfied: qtconsole in /usr/local/lib/python3.6/dist-packages (from jupyter->jyquickhelper) (4.6.0)\n",
      "Requirement already satisfied: jupyter-console in /usr/local/lib/python3.6/dist-packages (from jupyter->jyquickhelper) (5.2.0)\n",
      "Requirement already satisfied: ipywidgets in /usr/local/lib/python3.6/dist-packages (from jupyter->jyquickhelper) (7.5.1)\n",
      "Requirement already satisfied: ptyprocess>=0.5 in /usr/local/lib/python3.6/dist-packages (from pexpect; sys_platform != \"win32\"->ipython->jyquickhelper) (0.6.0)\n",
      "Requirement already satisfied: six in /usr/local/lib/python3.6/dist-packages (from traitlets>=4.2->ipython->jyquickhelper) (1.12.0)\n",
      "Requirement already satisfied: wcwidth in /usr/local/lib/python3.6/dist-packages (from prompt-toolkit<2.0.0,>=1.0.4->ipython->jyquickhelper) (0.1.8)\n",
      "Requirement already satisfied: jsonschema!=2.5.0,>=2.4 in /usr/local/lib/python3.6/dist-packages (from nbformat->notebook->jyquickhelper) (2.6.0)\n",
      "Requirement already satisfied: defusedxml in /usr/local/lib/python3.6/dist-packages (from nbconvert->notebook->jyquickhelper) (0.6.0)\n",
      "Requirement already satisfied: pandocfilters>=1.4.1 in /usr/local/lib/python3.6/dist-packages (from nbconvert->notebook->jyquickhelper) (1.4.2)\n",
      "Requirement already satisfied: testpath in /usr/local/lib/python3.6/dist-packages (from nbconvert->notebook->jyquickhelper) (0.4.4)\n",
      "Requirement already satisfied: mistune<2,>=0.8.1 in /usr/local/lib/python3.6/dist-packages (from nbconvert->notebook->jyquickhelper) (0.8.4)\n",
      "Requirement already satisfied: entrypoints>=0.2.2 in /usr/local/lib/python3.6/dist-packages (from nbconvert->notebook->jyquickhelper) (0.3)\n",
      "Requirement already satisfied: bleach in /usr/local/lib/python3.6/dist-packages (from nbconvert->notebook->jyquickhelper) (3.1.0)\n",
      "Requirement already satisfied: MarkupSafe>=0.23 in /usr/local/lib/python3.6/dist-packages (from jinja2->notebook->jyquickhelper) (1.1.1)\n",
      "Requirement already satisfied: python-dateutil>=2.1 in /usr/local/lib/python3.6/dist-packages (from jupyter-client->notebook->jyquickhelper) (2.6.1)\n",
      "Requirement already satisfied: pyzmq>=13 in /usr/local/lib/python3.6/dist-packages (from jupyter-client->notebook->jyquickhelper) (17.0.0)\n",
      "Requirement already satisfied: widgetsnbextension~=3.5.0 in /usr/local/lib/python3.6/dist-packages (from ipywidgets->jupyter->jyquickhelper) (3.5.1)\n",
      "Requirement already satisfied: webencodings in /usr/local/lib/python3.6/dist-packages (from bleach->nbconvert->notebook->jyquickhelper) (0.5.1)\n",
      "Installing collected packages: jyquickhelper\n",
      "Successfully installed jyquickhelper-0.3.128\n",
      "Collecting langdetect\n",
      "\u001b[?25l  Downloading https://files.pythonhosted.org/packages/59/59/4bc44158a767a6d66de18c4136c8aa90491d56cc951c10b74dd1e13213c9/langdetect-1.0.7.zip (998kB)\n",
      "\u001b[K     |████████████████████████████████| 1.0MB 2.9MB/s \n",
      "\u001b[?25hRequirement already satisfied: six in /usr/local/lib/python3.6/dist-packages (from langdetect) (1.12.0)\n",
      "Building wheels for collected packages: langdetect\n",
      "  Building wheel for langdetect (setup.py) ... \u001b[?25l\u001b[?25hdone\n",
      "  Created wheel for langdetect: filename=langdetect-1.0.7-cp36-none-any.whl size=993460 sha256=d5d2bb58c7c76ddfc293134f4846681190f533730e0288a52e4ce009c343c123\n",
      "  Stored in directory: /root/.cache/pip/wheels/ec/0c/a9/1647275e7ef5014e7b83ff30105180e332867d65e7617ddafe\n",
      "Successfully built langdetect\n",
      "Installing collected packages: langdetect\n",
      "Successfully installed langdetect-1.0.7\n",
      "Collecting scikit-plot\n",
      "  Downloading https://files.pythonhosted.org/packages/7c/47/32520e259340c140a4ad27c1b97050dd3254fdc517b1d59974d47037510e/scikit_plot-0.3.7-py3-none-any.whl\n",
      "Requirement already satisfied: scikit-learn>=0.18 in /usr/local/lib/python3.6/dist-packages (from scikit-plot) (0.22.1)\n",
      "Requirement already satisfied: scipy>=0.9 in /usr/local/lib/python3.6/dist-packages (from scikit-plot) (1.4.1)\n",
      "Requirement already satisfied: matplotlib>=1.4.0 in /usr/local/lib/python3.6/dist-packages (from scikit-plot) (3.1.2)\n",
      "Requirement already satisfied: joblib>=0.10 in /usr/local/lib/python3.6/dist-packages (from scikit-plot) (0.14.1)\n",
      "Requirement already satisfied: numpy>=1.11.0 in /usr/local/lib/python3.6/dist-packages (from scikit-learn>=0.18->scikit-plot) (1.17.5)\n",
      "Requirement already satisfied: kiwisolver>=1.0.1 in /usr/local/lib/python3.6/dist-packages (from matplotlib>=1.4.0->scikit-plot) (1.1.0)\n",
      "Requirement already satisfied: pyparsing!=2.0.4,!=2.1.2,!=2.1.6,>=2.0.1 in /usr/local/lib/python3.6/dist-packages (from matplotlib>=1.4.0->scikit-plot) (2.4.6)\n",
      "Requirement already satisfied: python-dateutil>=2.1 in /usr/local/lib/python3.6/dist-packages (from matplotlib>=1.4.0->scikit-plot) (2.6.1)\n",
      "Requirement already satisfied: cycler>=0.10 in /usr/local/lib/python3.6/dist-packages (from matplotlib>=1.4.0->scikit-plot) (0.10.0)\n",
      "Requirement already satisfied: setuptools in /usr/local/lib/python3.6/dist-packages (from kiwisolver>=1.0.1->matplotlib>=1.4.0->scikit-plot) (42.0.2)\n",
      "Requirement already satisfied: six>=1.5 in /usr/local/lib/python3.6/dist-packages (from python-dateutil>=2.1->matplotlib>=1.4.0->scikit-plot) (1.12.0)\n",
      "Installing collected packages: scikit-plot\n",
      "Successfully installed scikit-plot-0.3.7\n"
     ]
    }
   ],
   "source": [
    "!pip install jyquickhelper\n",
    "!pip install langdetect\n",
    "!pip install scikit-plot"
   ]
  },
  {
   "cell_type": "code",
   "execution_count": 2,
   "metadata": {
    "colab": {
     "base_uri": "https://localhost:8080/",
     "height": 17
    },
    "colab_type": "code",
    "id": "080DmUs35G2Q",
    "outputId": "5d06fb4b-ac69-499f-c070-2b2b71dde9d5"
   },
   "outputs": [
    {
     "data": {
      "text/html": [
       "<div id=\"my_id_menu_nb\">run previous cell, wait for 2 seconds</div>\n",
       "<script>\n",
       "function repeat_indent_string(n){\n",
       "    var a = \"\" ;\n",
       "    for ( ; n > 0 ; --n)\n",
       "        a += \"    \";\n",
       "    return a;\n",
       "}\n",
       "// look up into all sections and builds an automated menu //\n",
       "var update_menu_string = function(begin, lfirst, llast, sformat, send, keep_item, begin_format, end_format) {\n",
       "    var anchors = document.getElementsByClassName(\"section\");\n",
       "    if (anchors.length == 0) {\n",
       "        anchors = document.getElementsByClassName(\"text_cell_render rendered_html\");\n",
       "    }\n",
       "    var i,t;\n",
       "    var text_menu = begin;\n",
       "    var text_memo = \"<pre>\\nlength:\" + anchors.length + \"\\n\";\n",
       "    var ind = \"\";\n",
       "    var memo_level = 1;\n",
       "    var href;\n",
       "    var tags = [];\n",
       "    var main_item = 0;\n",
       "    var format_open = 0;\n",
       "    for (i = 0; i <= llast; i++)\n",
       "        tags.push(\"h\" + i);\n",
       "\n",
       "    for (i = 0; i < anchors.length; i++) {\n",
       "        text_memo += \"**\" + anchors[i].id + \"--\\n\";\n",
       "\n",
       "        var child = null;\n",
       "        for(t = 0; t < tags.length; t++) {\n",
       "            var r = anchors[i].getElementsByTagName(tags[t]);\n",
       "            if (r.length > 0) {\n",
       "child = r[0];\n",
       "break;\n",
       "            }\n",
       "        }\n",
       "        if (child == null) {\n",
       "            text_memo += \"null\\n\";\n",
       "            continue;\n",
       "        }\n",
       "        if (anchors[i].hasAttribute(\"id\")) {\n",
       "            // when converted in RST\n",
       "            href = anchors[i].id;\n",
       "            text_memo += \"#1-\" + href;\n",
       "            // passer à child suivant (le chercher)\n",
       "        }\n",
       "        else if (child.hasAttribute(\"id\")) {\n",
       "            // in a notebook\n",
       "            href = child.id;\n",
       "            text_memo += \"#2-\" + href;\n",
       "        }\n",
       "        else {\n",
       "            text_memo += \"#3-\" + \"*\" + \"\\n\";\n",
       "            continue;\n",
       "        }\n",
       "        var title = child.textContent;\n",
       "        var level = parseInt(child.tagName.substring(1,2));\n",
       "\n",
       "        text_memo += \"--\" + level + \"?\" + lfirst + \"--\" + title + \"\\n\";\n",
       "\n",
       "        if ((level < lfirst) || (level > llast)) {\n",
       "            continue ;\n",
       "        }\n",
       "        if (title.endsWith('¶')) {\n",
       "            title = title.substring(0,title.length-1).replace(\"<\", \"&lt;\")\n",
       "         .replace(\">\", \"&gt;\").replace(\"&\", \"&amp;\");\n",
       "        }\n",
       "        if (title.length == 0) {\n",
       "            continue;\n",
       "        }\n",
       "\n",
       "        while (level < memo_level) {\n",
       "            text_menu += end_format + \"</ul>\\n\";\n",
       "            format_open -= 1;\n",
       "            memo_level -= 1;\n",
       "        }\n",
       "        if (level == lfirst) {\n",
       "            main_item += 1;\n",
       "        }\n",
       "        if (keep_item != -1 && main_item != keep_item + 1) {\n",
       "            // alert(main_item + \" - \" + level + \" - \" + keep_item);\n",
       "            continue;\n",
       "        }\n",
       "        while (level > memo_level) {\n",
       "            text_menu += \"<ul>\\n\";\n",
       "            memo_level += 1;\n",
       "        }\n",
       "        text_menu += repeat_indent_string(level-2);\n",
       "        text_menu += begin_format + sformat.replace(\"__HREF__\", href).replace(\"__TITLE__\", title);\n",
       "        format_open += 1;\n",
       "    }\n",
       "    while (1 < memo_level) {\n",
       "        text_menu += end_format + \"</ul>\\n\";\n",
       "        memo_level -= 1;\n",
       "        format_open -= 1;\n",
       "    }\n",
       "    text_menu += send;\n",
       "    //text_menu += \"\\n\" + text_memo;\n",
       "\n",
       "    while (format_open > 0) {\n",
       "        text_menu += end_format;\n",
       "        format_open -= 1;\n",
       "    }\n",
       "    return text_menu;\n",
       "};\n",
       "var update_menu = function() {\n",
       "    var sbegin = \"\";\n",
       "    var sformat = '<a href=\"#__HREF__\">__TITLE__</a>';\n",
       "    var send = \"\";\n",
       "    var begin_format = '<li>';\n",
       "    var end_format = '</li>';\n",
       "    var keep_item = -1;\n",
       "    var text_menu = update_menu_string(sbegin, 2, 4, sformat, send, keep_item,\n",
       "       begin_format, end_format);\n",
       "    var menu = document.getElementById(\"my_id_menu_nb\");\n",
       "    menu.innerHTML=text_menu;\n",
       "};\n",
       "window.setTimeout(update_menu,2000);\n",
       "            </script>"
      ],
      "text/plain": [
       "<IPython.core.display.HTML object>"
      ]
     },
     "execution_count": 2,
     "metadata": {
      "tags": []
     },
     "output_type": "execute_result"
    }
   ],
   "source": [
    "### Ignore warning\n",
    "import warnings\n",
    "warnings.filterwarnings(\"ignore\")\n",
    "\n",
    "### Print table of content\n",
    "from jyquickhelper import add_notebook_menu\n",
    "add_notebook_menu()"
   ]
  },
  {
   "cell_type": "markdown",
   "metadata": {
    "colab_type": "text",
    "id": "8GdIcXlO5G2T"
   },
   "source": [
    "## II. Importation des données"
   ]
  },
  {
   "cell_type": "code",
   "execution_count": 3,
   "metadata": {
    "colab": {
     "base_uri": "https://localhost:8080/",
     "height": 247
    },
    "colab_type": "code",
    "id": "-eWV5hyb5G2U",
    "outputId": "22790023-94ae-4a39-980f-64053a978321"
   },
   "outputs": [
    {
     "name": "stdout",
     "output_type": "stream",
     "text": [
      "[nltk_data] Downloading package stopwords to /root/nltk_data...\n",
      "[nltk_data]   Unzipping corpora/stopwords.zip.\n",
      "[nltk_data] Downloading package punkt to /root/nltk_data...\n",
      "[nltk_data]   Unzipping tokenizers/punkt.zip.\n",
      "[nltk_data] Downloading package averaged_perceptron_tagger to\n",
      "[nltk_data]     /root/nltk_data...\n",
      "[nltk_data]   Unzipping taggers/averaged_perceptron_tagger.zip.\n",
      "[nltk_data] Downloading package wordnet to /root/nltk_data...\n",
      "[nltk_data]   Unzipping corpora/wordnet.zip.\n"
     ]
    },
    {
     "data": {
      "text/html": [
       "        <script type=\"text/javascript\">\n",
       "        window.PlotlyConfig = {MathJaxConfig: 'local'};\n",
       "        if (window.MathJax) {MathJax.Hub.Config({SVG: {font: \"STIX-Web\"}});}\n",
       "        if (typeof require !== 'undefined') {\n",
       "        require.undef(\"plotly\");\n",
       "        requirejs.config({\n",
       "            paths: {\n",
       "                'plotly': ['https://cdn.plot.ly/plotly-latest.min']\n",
       "            }\n",
       "        });\n",
       "        require(['plotly'], function(Plotly) {\n",
       "            window._Plotly = Plotly;\n",
       "        });\n",
       "        }\n",
       "        </script>\n",
       "        "
      ]
     },
     "metadata": {
      "tags": []
     },
     "output_type": "display_data"
    },
    {
     "name": "stdout",
     "output_type": "stream",
     "text": [
      "[nltk_data] Downloading package vader_lexicon to /root/nltk_data...\n"
     ]
    },
    {
     "name": "stderr",
     "output_type": "stream",
     "text": [
      "Using TensorFlow backend.\n"
     ]
    },
    {
     "data": {
      "text/html": [
       "<p style=\"color: red;\">\n",
       "The default version of TensorFlow in Colab will soon switch to TensorFlow 2.x.<br>\n",
       "We recommend you <a href=\"https://www.tensorflow.org/guide/migrate\" target=\"_blank\">upgrade</a> now \n",
       "or ensure your notebook will continue to use TensorFlow 1.x via the <code>%tensorflow_version 1.x</code> magic:\n",
       "<a href=\"https://colab.research.google.com/notebooks/tensorflow_version.ipynb\" target=\"_blank\">more info</a>.</p>\n"
      ],
      "text/plain": [
       "<IPython.core.display.HTML object>"
      ]
     },
     "metadata": {
      "tags": []
     },
     "output_type": "display_data"
    }
   ],
   "source": [
    "### Packages de base\n",
    "import numpy as np\n",
    "import pandas as pd\n",
    "import matplotlib.pyplot as plt\n",
    "import seaborn as sns\n",
    "get_ipython().magic('matplotlib inline')\n",
    "import time\n",
    "from itertools import chain \n",
    "from multiprocessing import Pool\n",
    "import gc\n",
    "import sys\n",
    "from scipy import sparse\n",
    "from random import sample \n",
    "\n",
    "### Packages pour NLP\n",
    "from sklearn.model_selection import train_test_split\n",
    "from nltk.corpus import stopwords\n",
    "from sklearn.feature_extraction.text import TfidfVectorizer, CountVectorizer, TfidfTransformer\n",
    "import nltk \n",
    "nltk.download('stopwords')\n",
    "nltk.download('punkt')\n",
    "nltk.download('averaged_perceptron_tagger')\n",
    "nltk.download('wordnet')\n",
    "stop = set(stopwords.words('english'))\n",
    "from nltk.stem.snowball import SnowballStemmer\n",
    "from nltk.stem import WordNetLemmatizer\n",
    "stemmer = SnowballStemmer('english')\n",
    "import nltk.tokenize as tokenize\n",
    "import gensim\n",
    "from wordcloud import WordCloud\n",
    "from langdetect import detect\n",
    "\n",
    "### Packages pour les plots\n",
    "import plotly.offline as py\n",
    "py.init_notebook_mode(connected=True)\n",
    "import plotly.graph_objs as go\n",
    "import plotly.tools as tls\n",
    "from nltk.sentiment.vader import SentimentIntensityAnalyzer as SIA\n",
    "nltk.download('vader_lexicon')\n",
    "sia = SIA()\n",
    "\n",
    "### Packages ML\n",
    "from umap import UMAP\n",
    "from sklearn.linear_model import LogisticRegression\n",
    "from sklearn.neighbors import KNeighborsClassifier\n",
    "from sklearn.metrics import accuracy_score, classification_report, confusion_matrix\n",
    "from sklearn.externals import joblib\n",
    "from sklearn.decomposition import PCA\n",
    "from sklearn.svm import SVC\n",
    "from keras.models import Sequential\n",
    "from keras.layers import Dense, BatchNormalization, Dropout\n",
    "from keras.optimizers import Adam\n",
    "from sklearn.preprocessing import Normalizer\n",
    "import scikitplot as skplt"
   ]
  },
  {
   "cell_type": "code",
   "execution_count": 4,
   "metadata": {
    "colab": {
     "base_uri": "https://localhost:8080/",
     "height": 121
    },
    "colab_type": "code",
    "id": "sffQLqzT6jLS",
    "outputId": "c5d492cc-bf66-417c-e424-49ed5dc81125"
   },
   "outputs": [
    {
     "name": "stdout",
     "output_type": "stream",
     "text": [
      "Go to this URL in a browser: https://accounts.google.com/o/oauth2/auth?client_id=947318989803-6bn6qk8qdgf4n4g3pfee6491hc0brc4i.apps.googleusercontent.com&redirect_uri=urn%3aietf%3awg%3aoauth%3a2.0%3aoob&response_type=code&scope=email%20https%3a%2f%2fwww.googleapis.com%2fauth%2fdocs.test%20https%3a%2f%2fwww.googleapis.com%2fauth%2fdrive%20https%3a%2f%2fwww.googleapis.com%2fauth%2fdrive.photos.readonly%20https%3a%2f%2fwww.googleapis.com%2fauth%2fpeopleapi.readonly\n",
      "\n",
      "Enter your authorization code:\n",
      "··········\n",
      "Mounted at /content/drive\n"
     ]
    }
   ],
   "source": [
    "from google.colab import drive\n",
    "drive.mount('/content/drive', force_remount=True)"
   ]
  },
  {
   "cell_type": "code",
   "execution_count": 5,
   "metadata": {
    "colab": {
     "base_uri": "https://localhost:8080/",
     "height": 319
    },
    "colab_type": "code",
    "id": "vuDcbnNtPAcW",
    "outputId": "5e7d38c1-7e19-4fb7-c6b7-347fbbd5f391"
   },
   "outputs": [
    {
     "name": "stdout",
     "output_type": "stream",
     "text": [
      "'Colab Notebooks'\n",
      "'Cours_CNN (1).pdf'\n",
      " Cours_CNN.pdf\n",
      "'cours_outils (1).pdf'\n",
      " cours_outils.pdf\n",
      "'Curriculum vitae Mohamed NIANG ENG.pdf'\n",
      "'Deep Learning (1).pdf'\n",
      "'Deep Learning.pdf'\n",
      "'Deep Learning.rar'\n",
      "'Generative Network.pdf'\n",
      " lab4_project.pdf\n",
      " Note_descente_gradient.pdf\n",
      "'Projet Final Intro Machine Learning.rar'\n",
      "'Reccurent Network.pdf'\n",
      "'SAPORTA probabilites-analyse-de-donnees-et-statistiques.pdf'\n",
      " segmentation.pdf\n",
      " test.zip\n",
      " train.zip\n"
     ]
    }
   ],
   "source": [
    "import os\n",
    "os.chdir(\"/content/drive/My Drive\")\n",
    "! ls "
   ]
  },
  {
   "cell_type": "code",
   "execution_count": null,
   "metadata": {
    "colab": {},
    "colab_type": "code",
    "id": "eJhqIWgW5G2W"
   },
   "outputs": [],
   "source": [
    "df_train = pd.read_csv('train.txt', sep=\"\\t\",header =None)\n",
    "df_train = pd.DataFrame(df_train[0].apply(lambda x: x.split(None, 1)).tolist(), columns=['label', 'text'])"
   ]
  },
  {
   "cell_type": "code",
   "execution_count": 8,
   "metadata": {
    "colab": {
     "base_uri": "https://localhost:8080/",
     "height": 34
    },
    "colab_type": "code",
    "id": "8oOrfBZ_5G2Y",
    "outputId": "c8373fa4-1804-4240-fbcd-f5d3e66e3f27"
   },
   "outputs": [
    {
     "name": "stdout",
     "output_type": "stream",
     "text": [
      "Shape of data : (3600000, 2)\n"
     ]
    }
   ],
   "source": [
    "print('Shape of data :',df_train.shape)"
   ]
  },
  {
   "cell_type": "markdown",
   "metadata": {
    "colab_type": "text",
    "id": "LX7qd6Wm5G2a"
   },
   "source": [
    "Notre analyse portera sur exactement 3.600.000 commentaires correspondant aux observations dans la base d'apprentisage et de 2 colones texte & label.\n",
    "\n",
    "### II.1 Description des données"
   ]
  },
  {
   "cell_type": "code",
   "execution_count": 9,
   "metadata": {
    "colab": {
     "base_uri": "https://localhost:8080/",
     "height": 166
    },
    "colab_type": "code",
    "id": "IhMoj1aB5G2a",
    "outputId": "0013b8dd-fe96-4012-d9e6-4f66ca2d8347",
    "scrolled": true
   },
   "outputs": [
    {
     "data": {
      "text/html": [
       "<div>\n",
       "<style scoped>\n",
       "    .dataframe tbody tr th:only-of-type {\n",
       "        vertical-align: middle;\n",
       "    }\n",
       "\n",
       "    .dataframe tbody tr th {\n",
       "        vertical-align: top;\n",
       "    }\n",
       "\n",
       "    .dataframe thead th {\n",
       "        text-align: right;\n",
       "    }\n",
       "</style>\n",
       "<table border=\"1\" class=\"dataframe\">\n",
       "  <thead>\n",
       "    <tr style=\"text-align: right;\">\n",
       "      <th></th>\n",
       "      <th>label</th>\n",
       "      <th>text</th>\n",
       "    </tr>\n",
       "  </thead>\n",
       "  <tbody>\n",
       "    <tr>\n",
       "      <th>count</th>\n",
       "      <td>3600000</td>\n",
       "      <td>3600000</td>\n",
       "    </tr>\n",
       "    <tr>\n",
       "      <th>unique</th>\n",
       "      <td>2</td>\n",
       "      <td>3600000</td>\n",
       "    </tr>\n",
       "    <tr>\n",
       "      <th>top</th>\n",
       "      <td>__label__2</td>\n",
       "      <td>It hurts to shave with this razor: I bought Gi...</td>\n",
       "    </tr>\n",
       "    <tr>\n",
       "      <th>freq</th>\n",
       "      <td>1800000</td>\n",
       "      <td>1</td>\n",
       "    </tr>\n",
       "  </tbody>\n",
       "</table>\n",
       "</div>"
      ],
      "text/plain": [
       "             label                                               text\n",
       "count      3600000                                            3600000\n",
       "unique           2                                            3600000\n",
       "top     __label__2  It hurts to shave with this razor: I bought Gi...\n",
       "freq       1800000                                                  1"
      ]
     },
     "execution_count": 9,
     "metadata": {
      "tags": []
     },
     "output_type": "execute_result"
    }
   ],
   "source": [
    "df_train.describe(include='all')"
   ]
  },
  {
   "cell_type": "code",
   "execution_count": 10,
   "metadata": {
    "colab": {
     "base_uri": "https://localhost:8080/",
     "height": 134
    },
    "colab_type": "code",
    "id": "sl7VoW4Y5G2c",
    "outputId": "ae6dc6cf-3ce8-465b-9740-073f5149e198"
   },
   "outputs": [
    {
     "name": "stdout",
     "output_type": "stream",
     "text": [
      "<class 'pandas.core.frame.DataFrame'>\n",
      "RangeIndex: 3600000 entries, 0 to 3599999\n",
      "Data columns (total 2 columns):\n",
      "label    object\n",
      "text     object\n",
      "dtypes: object(2)\n",
      "memory usage: 54.9+ MB\n"
     ]
    }
   ],
   "source": [
    "df_train.info()"
   ]
  },
  {
   "cell_type": "code",
   "execution_count": 11,
   "metadata": {
    "colab": {
     "base_uri": "https://localhost:8080/",
     "height": 639
    },
    "colab_type": "code",
    "id": "wOBj3f4F5G2f",
    "outputId": "95373e47-1389-4006-d03a-3c74c48276a6",
    "scrolled": true
   },
   "outputs": [
    {
     "data": {
      "text/html": [
       "<div>\n",
       "<style scoped>\n",
       "    .dataframe tbody tr th:only-of-type {\n",
       "        vertical-align: middle;\n",
       "    }\n",
       "\n",
       "    .dataframe tbody tr th {\n",
       "        vertical-align: top;\n",
       "    }\n",
       "\n",
       "    .dataframe thead th {\n",
       "        text-align: right;\n",
       "    }\n",
       "</style>\n",
       "<table border=\"1\" class=\"dataframe\">\n",
       "  <thead>\n",
       "    <tr style=\"text-align: right;\">\n",
       "      <th></th>\n",
       "      <th>label</th>\n",
       "      <th>text</th>\n",
       "    </tr>\n",
       "  </thead>\n",
       "  <tbody>\n",
       "    <tr>\n",
       "      <th>0</th>\n",
       "      <td>__label__2</td>\n",
       "      <td>Stuning even for the non-gamer: This sound tra...</td>\n",
       "    </tr>\n",
       "    <tr>\n",
       "      <th>1</th>\n",
       "      <td>__label__2</td>\n",
       "      <td>The best soundtrack ever to anything.: I'm rea...</td>\n",
       "    </tr>\n",
       "    <tr>\n",
       "      <th>2</th>\n",
       "      <td>__label__2</td>\n",
       "      <td>Amazing!: This soundtrack is my favorite music...</td>\n",
       "    </tr>\n",
       "    <tr>\n",
       "      <th>3</th>\n",
       "      <td>__label__2</td>\n",
       "      <td>Excellent Soundtrack: I truly like this soundt...</td>\n",
       "    </tr>\n",
       "    <tr>\n",
       "      <th>4</th>\n",
       "      <td>__label__2</td>\n",
       "      <td>Remember, Pull Your Jaw Off The Floor After He...</td>\n",
       "    </tr>\n",
       "    <tr>\n",
       "      <th>5</th>\n",
       "      <td>__label__2</td>\n",
       "      <td>an absolute masterpiece: I am quite sure any o...</td>\n",
       "    </tr>\n",
       "    <tr>\n",
       "      <th>6</th>\n",
       "      <td>__label__1</td>\n",
       "      <td>Buyer beware: This is a self-published book, a...</td>\n",
       "    </tr>\n",
       "    <tr>\n",
       "      <th>7</th>\n",
       "      <td>__label__2</td>\n",
       "      <td>Glorious story: I loved Whisper of the wicked ...</td>\n",
       "    </tr>\n",
       "    <tr>\n",
       "      <th>8</th>\n",
       "      <td>__label__2</td>\n",
       "      <td>A FIVE STAR BOOK: I just finished reading Whis...</td>\n",
       "    </tr>\n",
       "    <tr>\n",
       "      <th>9</th>\n",
       "      <td>__label__2</td>\n",
       "      <td>Whispers of the Wicked Saints: This was a easy...</td>\n",
       "    </tr>\n",
       "    <tr>\n",
       "      <th>10</th>\n",
       "      <td>__label__1</td>\n",
       "      <td>The Worst!: A complete waste of time. Typograp...</td>\n",
       "    </tr>\n",
       "    <tr>\n",
       "      <th>11</th>\n",
       "      <td>__label__2</td>\n",
       "      <td>Great book: This was a great book,I just could...</td>\n",
       "    </tr>\n",
       "    <tr>\n",
       "      <th>12</th>\n",
       "      <td>__label__2</td>\n",
       "      <td>Great Read: I thought this book was brilliant,...</td>\n",
       "    </tr>\n",
       "    <tr>\n",
       "      <th>13</th>\n",
       "      <td>__label__1</td>\n",
       "      <td>Oh please: I guess you have to be a romance no...</td>\n",
       "    </tr>\n",
       "    <tr>\n",
       "      <th>14</th>\n",
       "      <td>__label__1</td>\n",
       "      <td>Awful beyond belief!: I feel I have to write t...</td>\n",
       "    </tr>\n",
       "    <tr>\n",
       "      <th>15</th>\n",
       "      <td>__label__1</td>\n",
       "      <td>Don't try to fool us with fake reviews.: It's ...</td>\n",
       "    </tr>\n",
       "    <tr>\n",
       "      <th>16</th>\n",
       "      <td>__label__2</td>\n",
       "      <td>A romantic zen baseball comedy: When you hear ...</td>\n",
       "    </tr>\n",
       "    <tr>\n",
       "      <th>17</th>\n",
       "      <td>__label__2</td>\n",
       "      <td>Fashionable Compression Stockings!: After I ha...</td>\n",
       "    </tr>\n",
       "    <tr>\n",
       "      <th>18</th>\n",
       "      <td>__label__2</td>\n",
       "      <td>Jobst UltraSheer Thigh High: Excellent product...</td>\n",
       "    </tr>\n",
       "    <tr>\n",
       "      <th>19</th>\n",
       "      <td>__label__1</td>\n",
       "      <td>sizes recomended in the size chart are not rea...</td>\n",
       "    </tr>\n",
       "  </tbody>\n",
       "</table>\n",
       "</div>"
      ],
      "text/plain": [
       "         label                                               text\n",
       "0   __label__2  Stuning even for the non-gamer: This sound tra...\n",
       "1   __label__2  The best soundtrack ever to anything.: I'm rea...\n",
       "2   __label__2  Amazing!: This soundtrack is my favorite music...\n",
       "3   __label__2  Excellent Soundtrack: I truly like this soundt...\n",
       "4   __label__2  Remember, Pull Your Jaw Off The Floor After He...\n",
       "5   __label__2  an absolute masterpiece: I am quite sure any o...\n",
       "6   __label__1  Buyer beware: This is a self-published book, a...\n",
       "7   __label__2  Glorious story: I loved Whisper of the wicked ...\n",
       "8   __label__2  A FIVE STAR BOOK: I just finished reading Whis...\n",
       "9   __label__2  Whispers of the Wicked Saints: This was a easy...\n",
       "10  __label__1  The Worst!: A complete waste of time. Typograp...\n",
       "11  __label__2  Great book: This was a great book,I just could...\n",
       "12  __label__2  Great Read: I thought this book was brilliant,...\n",
       "13  __label__1  Oh please: I guess you have to be a romance no...\n",
       "14  __label__1  Awful beyond belief!: I feel I have to write t...\n",
       "15  __label__1  Don't try to fool us with fake reviews.: It's ...\n",
       "16  __label__2  A romantic zen baseball comedy: When you hear ...\n",
       "17  __label__2  Fashionable Compression Stockings!: After I ha...\n",
       "18  __label__2  Jobst UltraSheer Thigh High: Excellent product...\n",
       "19  __label__1  sizes recomended in the size chart are not rea..."
      ]
     },
     "execution_count": 11,
     "metadata": {
      "tags": []
     },
     "output_type": "execute_result"
    }
   ],
   "source": [
    "df_train.head(20)"
   ]
  },
  {
   "cell_type": "code",
   "execution_count": null,
   "metadata": {
    "colab": {},
    "colab_type": "code",
    "id": "e-r_jMyL5G2h"
   },
   "outputs": [],
   "source": [
    "df_train = df_train.drop_duplicates()"
   ]
  },
  {
   "cell_type": "code",
   "execution_count": 13,
   "metadata": {
    "colab": {
     "base_uri": "https://localhost:8080/",
     "height": 34
    },
    "colab_type": "code",
    "id": "SRGKf_Wm5G2j",
    "outputId": "2fbae72b-67d8-4fec-e6f4-a44095902819"
   },
   "outputs": [
    {
     "data": {
      "text/plain": [
       "array(['__label__2', '__label__1'], dtype=object)"
      ]
     },
     "execution_count": 13,
     "metadata": {
      "tags": []
     },
     "output_type": "execute_result"
    }
   ],
   "source": [
    "df_train['label'].unique()"
   ]
  },
  {
   "cell_type": "markdown",
   "metadata": {
    "colab_type": "text",
    "id": "ZGylJsdv5G2k"
   },
   "source": [
    "Il y a donc 2 classes à prévoir <br>\n",
    "On obseve maintenant quelques pharses de manière complète"
   ]
  },
  {
   "cell_type": "code",
   "execution_count": 14,
   "metadata": {
    "colab": {
     "base_uri": "https://localhost:8080/",
     "height": 70
    },
    "colab_type": "code",
    "id": "Z1amBueV5G2l",
    "outputId": "6c35522c-1838-42b5-ddfa-b9afaaf6fc53"
   },
   "outputs": [
    {
     "name": "stdout",
     "output_type": "stream",
     "text": [
      "__label__2\n"
     ]
    },
    {
     "data": {
      "text/plain": [
       "'Stuning even for the non-gamer: This sound track was beautiful! It paints the senery in your mind so well I would recomend it even to people who hate vid. game music! I have played the game Chrono Cross but out of all of the games I have ever played it has the best music! It backs away from crude keyboarding and takes a fresher step with grate guitars and soulful orchestras. It would impress anyone who cares to listen! ^_^'"
      ]
     },
     "execution_count": 14,
     "metadata": {
      "tags": []
     },
     "output_type": "execute_result"
    }
   ],
   "source": [
    "print(df_train['label'][0])\n",
    "df_train['text'][0]"
   ]
  },
  {
   "cell_type": "code",
   "execution_count": 15,
   "metadata": {
    "colab": {
     "base_uri": "https://localhost:8080/",
     "height": 70
    },
    "colab_type": "code",
    "id": "u_eV0-v85G2n",
    "outputId": "b3918065-eb94-4480-ee34-5d316d312658"
   },
   "outputs": [
    {
     "name": "stdout",
     "output_type": "stream",
     "text": [
      "__label__2\n"
     ]
    },
    {
     "data": {
      "text/plain": [
       "\"The best soundtrack ever to anything.: I'm reading a lot of reviews saying that this is the best 'game soundtrack' and I figured that I'd write a review to disagree a bit. This in my opinino is Yasunori Mitsuda's ultimate masterpiece. The music is timeless and I'm been listening to it for years now and its beauty simply refuses to fade.The price tag on this is pretty staggering I must say, but if you are going to buy any cd for this much money, this is the only one that I feel would be worth every penny.\""
      ]
     },
     "execution_count": 15,
     "metadata": {
      "tags": []
     },
     "output_type": "execute_result"
    }
   ],
   "source": [
    "print(df_train['label'][1])\n",
    "df_train['text'][1]"
   ]
  },
  {
   "cell_type": "code",
   "execution_count": 16,
   "metadata": {
    "colab": {
     "base_uri": "https://localhost:8080/",
     "height": 70
    },
    "colab_type": "code",
    "id": "_T5MDDAj5G2p",
    "outputId": "ef471864-4930-4074-cb93-d127a4fab341"
   },
   "outputs": [
    {
     "name": "stdout",
     "output_type": "stream",
     "text": [
      "__label__1\n"
     ]
    },
    {
     "data": {
      "text/plain": [
       "'Buyer beware: This is a self-published book, and if you want to know why--read a few paragraphs! Those 5 star reviews must have been written by Ms. Haddon\\'s family and friends--or perhaps, by herself! I can\\'t imagine anyone reading the whole thing--I spent an evening with the book and a friend and we were in hysterics reading bits and pieces of it to one another. It is most definitely bad enough to be entered into some kind of a \"worst book\" contest. I can\\'t believe Amazon even sells this kind of thing. Maybe I can offer them my 8th grade term paper on \"To Kill a Mockingbird\"--a book I am quite sure Ms. Haddon never heard of. Anyway, unless you are in a mood to send a book to someone as a joke---stay far, far away from this one!'"
      ]
     },
     "execution_count": 16,
     "metadata": {
      "tags": []
     },
     "output_type": "execute_result"
    }
   ],
   "source": [
    "print(df_train['label'][6])\n",
    "df_train['text'][6]"
   ]
  },
  {
   "cell_type": "code",
   "execution_count": 17,
   "metadata": {
    "colab": {
     "base_uri": "https://localhost:8080/",
     "height": 70
    },
    "colab_type": "code",
    "id": "LXQXwFcD5G2r",
    "outputId": "f0400f88-301a-440d-815c-94c84cf341de"
   },
   "outputs": [
    {
     "name": "stdout",
     "output_type": "stream",
     "text": [
      "__label__1\n"
     ]
    },
    {
     "data": {
      "text/plain": [
       "'Awful beyond belief!: I feel I have to write to keep others from wasting their money. This book seems to have been written by a 7th grader with poor grammatical skills for her age! As another reviewer points out, there is a misspelling on the cover, and I believe there is at least one per chapter. For example, it was mentioned twice that she had a \"lean\" on her house. I was so distracted by the poor writing and weak plot, that I decided to read with a pencil in hand to mark all of the horrible grammar and spelling. Please don\\'t waste your money. I too, believe that the good reviews must have been written by the author\\'s relatives. I will not put much faith in the reviews from now on!'"
      ]
     },
     "execution_count": 17,
     "metadata": {
      "tags": []
     },
     "output_type": "execute_result"
    }
   ],
   "source": [
    "print(df_train['label'][14])\n",
    "df_train['text'][14]"
   ]
  },
  {
   "cell_type": "markdown",
   "metadata": {
    "colab_type": "text",
    "id": "dT4_flQD5G2t"
   },
   "source": [
    "##### <u>Remarque 1</u>:\n",
    "\n",
    "Les textes étudiés sont  appriorie redigés en anglais. En outre, ils comportent pas mal de ponctuations et quelsues emoji.<br>\n",
    "On peut apriori apres lecture dire que le label 1  correspond aux commentaires plutot négatifs alors que ceux du label 2 sont positif. \n",
    "\n",
    "##### Rename label"
   ]
  },
  {
   "cell_type": "code",
   "execution_count": null,
   "metadata": {
    "colab": {},
    "colab_type": "code",
    "id": "Vg4O4IQ_5G2t"
   },
   "outputs": [],
   "source": [
    "### Rename label\n",
    "df_train['label_new'] = 'good'\n",
    "df_train['label_new'][df_train['label']=='__label__1']='bad'\n",
    "df_train.drop('label',axis = 1,inplace=True)"
   ]
  },
  {
   "cell_type": "code",
   "execution_count": 19,
   "metadata": {
    "colab": {
     "base_uri": "https://localhost:8080/",
     "height": 282
    },
    "colab_type": "code",
    "id": "DkG1iCFN5G2v",
    "outputId": "85e8ff8e-5ce1-4dc7-82b2-76237966b156"
   },
   "outputs": [
    {
     "data": {
      "text/plain": [
       "<matplotlib.axes._subplots.AxesSubplot at 0x7f4539929f60>"
      ]
     },
     "execution_count": 19,
     "metadata": {
      "tags": []
     },
     "output_type": "execute_result"
    },
    {
     "data": {
      "image/png": "[encoded data removed]",
      "text/plain": [
       "<Figure size 432x288 with 1 Axes>"
      ]
     },
     "metadata": {
      "tags": []
     },
     "output_type": "display_data"
    }
   ],
   "source": [
    "sns.barplot(np.unique(df_train['label_new']),df_train.groupby('label_new').count().values[:,0])"
   ]
  },
  {
   "cell_type": "markdown",
   "metadata": {
    "colab_type": "text",
    "id": "VZGzqHhx5G2x"
   },
   "source": [
    "La figure ci-dessus donne un appercu de la distribution de nos labels dans le data train.<br> ( Distrubution équilibrée ) \n",
    "### II.2 Création de nouvelles variables\n",
    "Une fois cette premiere visualisation réalisé, on se demande maintenant si la création de nouvelles variables par simple transformation de nos données peut nous apporter des informations suplémentaires. C'est pour quoi, on s'intéresse maintenant à la distribution de la taille des textes par rapport aux différents labels. "
   ]
  },
  {
   "cell_type": "code",
   "execution_count": null,
   "metadata": {
    "colab": {},
    "colab_type": "code",
    "id": "8XV3LIMY5G2y"
   },
   "outputs": [],
   "source": [
    "df_train['len'] = df_train['text'].apply(lambda x: len(x.split()))"
   ]
  },
  {
   "cell_type": "code",
   "execution_count": 21,
   "metadata": {
    "colab": {
     "base_uri": "https://localhost:8080/",
     "height": 458
    },
    "colab_type": "code",
    "id": "KrZX3S0u5G2z",
    "outputId": "1ad6fc30-3693-475c-a9db-b605b38da620"
   },
   "outputs": [
    {
     "data": {
      "image/png": "[encoded data removed]",
      "text/plain": [
       "<Figure size 864x504 with 1 Axes>"
      ]
     },
     "metadata": {
      "tags": []
     },
     "output_type": "display_data"
    }
   ],
   "source": [
    "plt.figure(figsize = (12, 7))\n",
    "sns.distplot(df_train['len'][df_train['label_new'] =='good'], hist = True, label = \"good\",)\n",
    "sns.distplot(df_train['len'][df_train['label_new'] =='bad'], hist = True, label = \"bad\")\n",
    "plt.legend(fontsize = 10)\n",
    "plt.title(\"Length Distribution by Class\", fontsize = 12)\n",
    "plt.show()"
   ]
  },
  {
   "cell_type": "markdown",
   "metadata": {
    "colab_type": "text",
    "id": "2lleaOEd5G21"
   },
   "source": [
    "On n'observe qu'une légère différence entre les deux distributions. Néamoins, pour la suite on considère que cette différence différence serait suceptible de nous apporter des informations. On decide donc de conserver cette nouvelle variable pour l'élaboration de notre modèle.\n",
    "##### II.2.A Certaines Poinctuations apportent elles des informations sur la distribution  des labels ?"
   ]
  },
  {
   "cell_type": "code",
   "execution_count": 22,
   "metadata": {
    "colab": {
     "base_uri": "https://localhost:8080/",
     "height": 298
    },
    "colab_type": "code",
    "id": "IkvWbmZA5G22",
    "outputId": "fd6af38f-d3d5-4da7-ad71-3055b1df08ed"
   },
   "outputs": [
    {
     "data": {
      "text/plain": [
       "Text(0.5, 1.0, 'Exclamation_mark (n =1191629)')"
      ]
     },
     "execution_count": 22,
     "metadata": {
      "tags": []
     },
     "output_type": "execute_result"
    },
    {
     "data": {
      "image/png": "[encoded data removed]",
      "text/plain": [
       "<Figure size 432x288 with 1 Axes>"
      ]
     },
     "metadata": {
      "tags": []
     },
     "output_type": "display_data"
    }
   ],
   "source": [
    "sf_train_exclamation_mark = df_train[df_train['text'].apply(lambda x: '!' in x)]\n",
    "sns.barplot(np.unique(sf_train_exclamation_mark['label_new']),sf_train_exclamation_mark.groupby('label_new').count().values[:,0])\n",
    "plt.title('Exclamation_mark (n =' +str(sf_train_exclamation_mark.shape[0])+')')"
   ]
  },
  {
   "cell_type": "code",
   "execution_count": 23,
   "metadata": {
    "colab": {
     "base_uri": "https://localhost:8080/",
     "height": 298
    },
    "colab_type": "code",
    "id": "kOjqZ6G35G25",
    "outputId": "0031807f-824d-41df-84ad-9504bae16066"
   },
   "outputs": [
    {
     "data": {
      "text/plain": [
       "Text(0.5, 1.0, 'Question_mark (n =390365)')"
      ]
     },
     "execution_count": 23,
     "metadata": {
      "tags": []
     },
     "output_type": "execute_result"
    },
    {
     "data": {
      "image/png": "[encoded data removed]",
      "text/plain": [
       "<Figure size 432x288 with 1 Axes>"
      ]
     },
     "metadata": {
      "tags": []
     },
     "output_type": "display_data"
    }
   ],
   "source": [
    "sf_train_question_mark = df_train[df_train['text'].apply(lambda x: '?' in x)]\n",
    "sns.barplot(np.unique(sf_train_question_mark['label_new']),sf_train_question_mark.groupby('label_new').count().values[:,0])\n",
    "plt.title('Question_mark (n =' +str(sf_train_question_mark.shape[0])+')')"
   ]
  },
  {
   "cell_type": "code",
   "execution_count": 24,
   "metadata": {
    "colab": {
     "base_uri": "https://localhost:8080/",
     "height": 298
    },
    "colab_type": "code",
    "id": "XBJQezh45G28",
    "outputId": "8aac6dcd-de19-4a13-84a0-3332f54e3665"
   },
   "outputs": [
    {
     "data": {
      "text/plain": [
       "Text(0.5, 1.0, 'Emotion_unhappy (n =9204)')"
      ]
     },
     "execution_count": 24,
     "metadata": {
      "tags": []
     },
     "output_type": "execute_result"
    },
    {
     "data": {
      "image/png": "[encoded data removed]",
      "text/plain": [
       "<Figure size 432x288 with 1 Axes>"
      ]
     },
     "metadata": {
      "tags": []
     },
     "output_type": "display_data"
    }
   ],
   "source": [
    "sf_train_emotion_unhappy = df_train[df_train['text'].apply(lambda x: ':(' in x)]\n",
    "sns.barplot(np.unique(sf_train_emotion_unhappy['label_new']),sf_train_emotion_unhappy.groupby('label_new').count().values[:,0])\n",
    "plt.title('Emotion_unhappy (n =' +str(sf_train_emotion_unhappy.shape[0])+')')"
   ]
  },
  {
   "cell_type": "code",
   "execution_count": 25,
   "metadata": {
    "colab": {
     "base_uri": "https://localhost:8080/",
     "height": 298
    },
    "colab_type": "code",
    "id": "_09je5FC5G2_",
    "outputId": "46801049-40dd-424c-dfd3-4bee631d30ca"
   },
   "outputs": [
    {
     "data": {
      "text/plain": [
       "Text(0.5, 1.0, 'Emotion_happy (n =19839)')"
      ]
     },
     "execution_count": 25,
     "metadata": {
      "tags": []
     },
     "output_type": "execute_result"
    },
    {
     "data": {
      "image/png": "[encoded data removed]",
      "text/plain": [
       "<Figure size 432x288 with 1 Axes>"
      ]
     },
     "metadata": {
      "tags": []
     },
     "output_type": "display_data"
    }
   ],
   "source": [
    "sf_train_emotion_happy = df_train[df_train['text'].apply(lambda x: ':)' in x)]\n",
    "sns.barplot(np.unique(sf_train_emotion_happy['label_new']),sf_train_emotion_happy.groupby('label_new').count().values[:,0])\n",
    "plt.title('Emotion_happy (n =' +str(sf_train_emotion_happy.shape[0])+')')"
   ]
  },
  {
   "cell_type": "markdown",
   "metadata": {
    "colab_type": "text",
    "id": "iGOs4JR05G3B"
   },
   "source": [
    "##### <u>Remarque2</u>:\n",
    "\n",
    "On observe qu'on a beaucoup plus de point d'exclamation dans les commentaires classé positivement et plus de point d'intérogation dans les messages classé négativement.<br> Deplus, il y a une forte corélation entre l'apparution des emojis **happy** et le fait que le texte soit classé positivement et inversement pour **unhappy**. \n",
    "\n",
    "#### II.2.B Sentiment Intensity Analysis (SIA)\n",
    "\n",
    "Dans cette parti une analyserons l'intensité des sentiments des différents commentaires par **VADER** (Valence Aware Dictionary and sEntiment Reasoner). Cette analyse ne sera éffectué que sur 10000 observations par souci de temps de calcul. Notons que la variable \"label\" dans la table ci-dessous est la prediction de la SIA "
   ]
  },
  {
   "cell_type": "code",
   "execution_count": 26,
   "metadata": {
    "colab": {
     "base_uri": "https://localhost:8080/",
     "height": 195
    },
    "colab_type": "code",
    "id": "dEWw4jfU5G3B",
    "outputId": "56f522f3-7252-45af-9a44-a52928486f75"
   },
   "outputs": [
    {
     "data": {
      "text/html": [
       "<div>\n",
       "<style scoped>\n",
       "    .dataframe tbody tr th:only-of-type {\n",
       "        vertical-align: middle;\n",
       "    }\n",
       "\n",
       "    .dataframe tbody tr th {\n",
       "        vertical-align: top;\n",
       "    }\n",
       "\n",
       "    .dataframe thead th {\n",
       "        text-align: right;\n",
       "    }\n",
       "</style>\n",
       "<table border=\"1\" class=\"dataframe\">\n",
       "  <thead>\n",
       "    <tr style=\"text-align: right;\">\n",
       "      <th></th>\n",
       "      <th>neg</th>\n",
       "      <th>neu</th>\n",
       "      <th>pos</th>\n",
       "      <th>compound</th>\n",
       "      <th>len</th>\n",
       "      <th>label</th>\n",
       "      <th>real_label</th>\n",
       "    </tr>\n",
       "  </thead>\n",
       "  <tbody>\n",
       "    <tr>\n",
       "      <th>0</th>\n",
       "      <td>0.088</td>\n",
       "      <td>0.669</td>\n",
       "      <td>0.243</td>\n",
       "      <td>0.9454</td>\n",
       "      <td>426</td>\n",
       "      <td>good</td>\n",
       "      <td>good</td>\n",
       "    </tr>\n",
       "    <tr>\n",
       "      <th>1</th>\n",
       "      <td>0.018</td>\n",
       "      <td>0.837</td>\n",
       "      <td>0.145</td>\n",
       "      <td>0.8957</td>\n",
       "      <td>509</td>\n",
       "      <td>good</td>\n",
       "      <td>good</td>\n",
       "    </tr>\n",
       "    <tr>\n",
       "      <th>2</th>\n",
       "      <td>0.040</td>\n",
       "      <td>0.692</td>\n",
       "      <td>0.268</td>\n",
       "      <td>0.9858</td>\n",
       "      <td>760</td>\n",
       "      <td>good</td>\n",
       "      <td>good</td>\n",
       "    </tr>\n",
       "    <tr>\n",
       "      <th>3</th>\n",
       "      <td>0.090</td>\n",
       "      <td>0.615</td>\n",
       "      <td>0.295</td>\n",
       "      <td>0.9814</td>\n",
       "      <td>743</td>\n",
       "      <td>good</td>\n",
       "      <td>good</td>\n",
       "    </tr>\n",
       "    <tr>\n",
       "      <th>4</th>\n",
       "      <td>0.000</td>\n",
       "      <td>0.746</td>\n",
       "      <td>0.254</td>\n",
       "      <td>0.9781</td>\n",
       "      <td>481</td>\n",
       "      <td>good</td>\n",
       "      <td>good</td>\n",
       "    </tr>\n",
       "  </tbody>\n",
       "</table>\n",
       "</div>"
      ],
      "text/plain": [
       "     neg    neu    pos  compound  len label real_label\n",
       "0  0.088  0.669  0.243    0.9454  426  good       good\n",
       "1  0.018  0.837  0.145    0.8957  509  good       good\n",
       "2  0.040  0.692  0.268    0.9858  760  good       good\n",
       "3  0.090  0.615  0.295    0.9814  743  good       good\n",
       "4  0.000  0.746  0.254    0.9781  481  good       good"
      ]
     },
     "execution_count": 26,
     "metadata": {
      "tags": []
     },
     "output_type": "execute_result"
    }
   ],
   "source": [
    "train_sentiment = pd.DataFrame.from_records(df_train['text'][0:10000].apply(lambda x: sia.polarity_scores(x)))\n",
    "train_sentiment['len'] = df_train['text'][0:10000].apply(len)\n",
    "train_sentiment['label'] = 'good'\n",
    "train_sentiment['label'][train_sentiment['neg']>train_sentiment['pos']] ='bad'\n",
    "train_sentiment['real_label'] = df_train['label_new'][0:10000]\n",
    "train_sentiment.head()"
   ]
  },
  {
   "cell_type": "code",
   "execution_count": 27,
   "metadata": {
    "colab": {
     "base_uri": "https://localhost:8080/",
     "height": 168
    },
    "colab_type": "code",
    "id": "gZRY5BMU5G3D",
    "outputId": "cdbf5ae1-e54b-481a-c179-898496a5d620"
   },
   "outputs": [
    {
     "name": "stdout",
     "output_type": "stream",
     "text": [
      "              precision    recall  f1-score   support\n",
      "\n",
      "         bad       0.86      0.51      0.64      5097\n",
      "        good       0.64      0.91      0.75      4903\n",
      "\n",
      "    accuracy                           0.71     10000\n",
      "   macro avg       0.75      0.71      0.70     10000\n",
      "weighted avg       0.75      0.71      0.69     10000\n",
      "\n"
     ]
    }
   ],
   "source": [
    "print(classification_report(df_train['label_new'][0:10000], train_sentiment['label']))"
   ]
  },
  {
   "cell_type": "code",
   "execution_count": 28,
   "metadata": {
    "colab": {
     "base_uri": "https://localhost:8080/",
     "height": 34
    },
    "colab_type": "code",
    "id": "Lt_sBoul5G3F",
    "outputId": "9277ceee-9648-40a7-ecb2-87ac7212c2b7"
   },
   "outputs": [
    {
     "data": {
      "text/plain": [
       "0.7067"
      ]
     },
     "execution_count": 28,
     "metadata": {
      "tags": []
     },
     "output_type": "execute_result"
    }
   ],
   "source": [
    "accuracy_score(df_train['label_new'][0:10000], train_sentiment['label'])"
   ]
  },
  {
   "cell_type": "markdown",
   "metadata": {
    "colab_type": "text",
    "id": "AWxAaNLW5G3G"
   },
   "source": [
    "L'accuracy trouvé ce dessus n'est pas tres performante. Cependant on conserve la variable car on estime que cette statistique nous apportera des informations dans notre model. \n",
    "#### II.2.C Language Detection\n"
   ]
  },
  {
   "cell_type": "code",
   "execution_count": null,
   "metadata": {
    "colab": {},
    "colab_type": "code",
    "id": "SRNCvfvc5G3H"
   },
   "outputs": [],
   "source": [
    "lang_detection = df_train.iloc[0:10000]\n",
    "lang_detection['lang'] = df_train['text'][0:10000].map(detect,) "
   ]
  },
  {
   "cell_type": "code",
   "execution_count": 30,
   "metadata": {
    "colab": {
     "base_uri": "https://localhost:8080/",
     "height": 935
    },
    "colab_type": "code",
    "id": "ec63qltx5G3I",
    "outputId": "9f1d6160-1e2a-422e-b378-be03f360b4a3"
   },
   "outputs": [
    {
     "data": {
      "text/html": [
       "<div>\n",
       "<style scoped>\n",
       "    .dataframe tbody tr th:only-of-type {\n",
       "        vertical-align: middle;\n",
       "    }\n",
       "\n",
       "    .dataframe tbody tr th {\n",
       "        vertical-align: top;\n",
       "    }\n",
       "\n",
       "    .dataframe thead th {\n",
       "        text-align: right;\n",
       "    }\n",
       "</style>\n",
       "<table border=\"1\" class=\"dataframe\">\n",
       "  <thead>\n",
       "    <tr style=\"text-align: right;\">\n",
       "      <th></th>\n",
       "      <th>text</th>\n",
       "      <th>label_new</th>\n",
       "      <th>len</th>\n",
       "      <th>lang</th>\n",
       "    </tr>\n",
       "  </thead>\n",
       "  <tbody>\n",
       "    <tr>\n",
       "      <th>169</th>\n",
       "      <td>Awesume! BEST BLOCKS EVER!: THIS TOY WAS OUR G...</td>\n",
       "      <td>good</td>\n",
       "      <td>27</td>\n",
       "      <td>de</td>\n",
       "    </tr>\n",
       "    <tr>\n",
       "      <th>1249</th>\n",
       "      <td>Il grande ritorno!: E' dai tempi del tour di \"...</td>\n",
       "      <td>good</td>\n",
       "      <td>153</td>\n",
       "      <td>it</td>\n",
       "    </tr>\n",
       "    <tr>\n",
       "      <th>1259</th>\n",
       "      <td>La reencarnación vista por un científico: El p...</td>\n",
       "      <td>good</td>\n",
       "      <td>34</td>\n",
       "      <td>es</td>\n",
       "    </tr>\n",
       "    <tr>\n",
       "      <th>1260</th>\n",
       "      <td>Excelente Libro / Amazing book!!: Este libro h...</td>\n",
       "      <td>good</td>\n",
       "      <td>105</td>\n",
       "      <td>es</td>\n",
       "    </tr>\n",
       "    <tr>\n",
       "      <th>1261</th>\n",
       "      <td>Magnifico libro: Brian Weiss ha dejado una mag...</td>\n",
       "      <td>good</td>\n",
       "      <td>47</td>\n",
       "      <td>es</td>\n",
       "    </tr>\n",
       "    <tr>\n",
       "      <th>1639</th>\n",
       "      <td>El libro mas completo que existe para nosotras...</td>\n",
       "      <td>good</td>\n",
       "      <td>29</td>\n",
       "      <td>es</td>\n",
       "    </tr>\n",
       "    <tr>\n",
       "      <th>1745</th>\n",
       "      <td>Excelente!: Una excelente guía para todos aque...</td>\n",
       "      <td>good</td>\n",
       "      <td>49</td>\n",
       "      <td>es</td>\n",
       "    </tr>\n",
       "    <tr>\n",
       "      <th>2316</th>\n",
       "      <td>Nightwish is unique and rocks for eva: Moi to ...</td>\n",
       "      <td>good</td>\n",
       "      <td>47</td>\n",
       "      <td>fr</td>\n",
       "    </tr>\n",
       "    <tr>\n",
       "      <th>2486</th>\n",
       "      <td>Palabras de aliento para tu caminar con Dios: ...</td>\n",
       "      <td>good</td>\n",
       "      <td>80</td>\n",
       "      <td>es</td>\n",
       "    </tr>\n",
       "    <tr>\n",
       "      <th>2760</th>\n",
       "      <td>Completement nul: Fait sur commande et ennuyan...</td>\n",
       "      <td>bad</td>\n",
       "      <td>18</td>\n",
       "      <td>fr</td>\n",
       "    </tr>\n",
       "    <tr>\n",
       "      <th>2903</th>\n",
       "      <td>fabuloso: mil gracias por el producto fabuloso...</td>\n",
       "      <td>good</td>\n",
       "      <td>22</td>\n",
       "      <td>es</td>\n",
       "    </tr>\n",
       "    <tr>\n",
       "      <th>2908</th>\n",
       "      <td>Geh: Blah blah, sexy girl, blah blah, fighting...</td>\n",
       "      <td>bad</td>\n",
       "      <td>21</td>\n",
       "      <td>id</td>\n",
       "    </tr>\n",
       "    <tr>\n",
       "      <th>3318</th>\n",
       "      <td>Excelentes botas.. excelentes boots: Excelente...</td>\n",
       "      <td>good</td>\n",
       "      <td>31</td>\n",
       "      <td>es</td>\n",
       "    </tr>\n",
       "    <tr>\n",
       "      <th>3694</th>\n",
       "      <td>Why not Spanish ???: Alguien me puede decir po...</td>\n",
       "      <td>bad</td>\n",
       "      <td>103</td>\n",
       "      <td>es</td>\n",
       "    </tr>\n",
       "    <tr>\n",
       "      <th>4144</th>\n",
       "      <td>LEAKED FIRST DAY FOR MY GUEST: IT HAD A LEAK F...</td>\n",
       "      <td>bad</td>\n",
       "      <td>27</td>\n",
       "      <td>de</td>\n",
       "    </tr>\n",
       "    <tr>\n",
       "      <th>4820</th>\n",
       "      <td>La mejor película de Moore: A mi juicio, esta ...</td>\n",
       "      <td>good</td>\n",
       "      <td>21</td>\n",
       "      <td>es</td>\n",
       "    </tr>\n",
       "    <tr>\n",
       "      <th>4914</th>\n",
       "      <td>De la poudre aux yeux: J'ai acheté un Sansa Vi...</td>\n",
       "      <td>bad</td>\n",
       "      <td>65</td>\n",
       "      <td>fr</td>\n",
       "    </tr>\n",
       "    <tr>\n",
       "      <th>5720</th>\n",
       "      <td>C'est magnifique! il y a du vrai dans ce qui'l...</td>\n",
       "      <td>good</td>\n",
       "      <td>96</td>\n",
       "      <td>fr</td>\n",
       "    </tr>\n",
       "    <tr>\n",
       "      <th>5875</th>\n",
       "      <td>Erreur: \"Les Triplettes de Belleville\" n'a pas...</td>\n",
       "      <td>good</td>\n",
       "      <td>25</td>\n",
       "      <td>fr</td>\n",
       "    </tr>\n",
       "    <tr>\n",
       "      <th>5901</th>\n",
       "      <td>Buen cargador: Product very good, I am of Vene...</td>\n",
       "      <td>good</td>\n",
       "      <td>22</td>\n",
       "      <td>es</td>\n",
       "    </tr>\n",
       "    <tr>\n",
       "      <th>6234</th>\n",
       "      <td>5+ stars. LO MEJOR DE LO QUE HE LEIDO EN MI VI...</td>\n",
       "      <td>good</td>\n",
       "      <td>106</td>\n",
       "      <td>es</td>\n",
       "    </tr>\n",
       "    <tr>\n",
       "      <th>6631</th>\n",
       "      <td>certains bugs viennent tout gacher: le jeu est...</td>\n",
       "      <td>bad</td>\n",
       "      <td>54</td>\n",
       "      <td>fr</td>\n",
       "    </tr>\n",
       "    <tr>\n",
       "      <th>7078</th>\n",
       "      <td>Variedad: Bueno tener este album debido a su s...</td>\n",
       "      <td>good</td>\n",
       "      <td>59</td>\n",
       "      <td>es</td>\n",
       "    </tr>\n",
       "    <tr>\n",
       "      <th>7888</th>\n",
       "      <td>Ich weiß ja nicht !: Also ich finde es ja toll...</td>\n",
       "      <td>bad</td>\n",
       "      <td>87</td>\n",
       "      <td>de</td>\n",
       "    </tr>\n",
       "    <tr>\n",
       "      <th>7983</th>\n",
       "      <td>1F4T: Cet album est chanté vraiment bien. Jean...</td>\n",
       "      <td>good</td>\n",
       "      <td>63</td>\n",
       "      <td>fr</td>\n",
       "    </tr>\n",
       "    <tr>\n",
       "      <th>8018</th>\n",
       "      <td>Exelente eleccion: Los mejores zapatos de futb...</td>\n",
       "      <td>good</td>\n",
       "      <td>25</td>\n",
       "      <td>es</td>\n",
       "    </tr>\n",
       "    <tr>\n",
       "      <th>8340</th>\n",
       "      <td>Jean de Florette et Manon des sources: bien ai...</td>\n",
       "      <td>good</td>\n",
       "      <td>39</td>\n",
       "      <td>fr</td>\n",
       "    </tr>\n",
       "    <tr>\n",
       "      <th>9265</th>\n",
       "      <td>Excelente: Manu es una de los mejores cantante...</td>\n",
       "      <td>good</td>\n",
       "      <td>48</td>\n",
       "      <td>es</td>\n",
       "    </tr>\n",
       "    <tr>\n",
       "      <th>9422</th>\n",
       "      <td>DVD CON PROBLEMAS: ESTE DVD LLEGO EN BUEN TIEM...</td>\n",
       "      <td>bad</td>\n",
       "      <td>26</td>\n",
       "      <td>de</td>\n",
       "    </tr>\n",
       "    <tr>\n",
       "      <th>9624</th>\n",
       "      <td>baaaaaadddddddd bookkkkkkk: por favor no gaste...</td>\n",
       "      <td>bad</td>\n",
       "      <td>70</td>\n",
       "      <td>es</td>\n",
       "    </tr>\n",
       "  </tbody>\n",
       "</table>\n",
       "</div>"
      ],
      "text/plain": [
       "                                                   text label_new  len lang\n",
       "169   Awesume! BEST BLOCKS EVER!: THIS TOY WAS OUR G...      good   27   de\n",
       "1249  Il grande ritorno!: E' dai tempi del tour di \"...      good  153   it\n",
       "1259  La reencarnación vista por un científico: El p...      good   34   es\n",
       "1260  Excelente Libro / Amazing book!!: Este libro h...      good  105   es\n",
       "1261  Magnifico libro: Brian Weiss ha dejado una mag...      good   47   es\n",
       "1639  El libro mas completo que existe para nosotras...      good   29   es\n",
       "1745  Excelente!: Una excelente guía para todos aque...      good   49   es\n",
       "2316  Nightwish is unique and rocks for eva: Moi to ...      good   47   fr\n",
       "2486  Palabras de aliento para tu caminar con Dios: ...      good   80   es\n",
       "2760  Completement nul: Fait sur commande et ennuyan...       bad   18   fr\n",
       "2903  fabuloso: mil gracias por el producto fabuloso...      good   22   es\n",
       "2908  Geh: Blah blah, sexy girl, blah blah, fighting...       bad   21   id\n",
       "3318  Excelentes botas.. excelentes boots: Excelente...      good   31   es\n",
       "3694  Why not Spanish ???: Alguien me puede decir po...       bad  103   es\n",
       "4144  LEAKED FIRST DAY FOR MY GUEST: IT HAD A LEAK F...       bad   27   de\n",
       "4820  La mejor película de Moore: A mi juicio, esta ...      good   21   es\n",
       "4914  De la poudre aux yeux: J'ai acheté un Sansa Vi...       bad   65   fr\n",
       "5720  C'est magnifique! il y a du vrai dans ce qui'l...      good   96   fr\n",
       "5875  Erreur: \"Les Triplettes de Belleville\" n'a pas...      good   25   fr\n",
       "5901  Buen cargador: Product very good, I am of Vene...      good   22   es\n",
       "6234  5+ stars. LO MEJOR DE LO QUE HE LEIDO EN MI VI...      good  106   es\n",
       "6631  certains bugs viennent tout gacher: le jeu est...       bad   54   fr\n",
       "7078  Variedad: Bueno tener este album debido a su s...      good   59   es\n",
       "7888  Ich weiß ja nicht !: Also ich finde es ja toll...       bad   87   de\n",
       "7983  1F4T: Cet album est chanté vraiment bien. Jean...      good   63   fr\n",
       "8018  Exelente eleccion: Los mejores zapatos de futb...      good   25   es\n",
       "8340  Jean de Florette et Manon des sources: bien ai...      good   39   fr\n",
       "9265  Excelente: Manu es una de los mejores cantante...      good   48   es\n",
       "9422  DVD CON PROBLEMAS: ESTE DVD LLEGO EN BUEN TIEM...       bad   26   de\n",
       "9624  baaaaaadddddddd bookkkkkkk: por favor no gaste...       bad   70   es"
      ]
     },
     "execution_count": 30,
     "metadata": {
      "tags": []
     },
     "output_type": "execute_result"
    }
   ],
   "source": [
    "lang_detection[lang_detection['lang'] != 'en']"
   ]
  },
  {
   "cell_type": "code",
   "execution_count": 31,
   "metadata": {
    "colab": {
     "base_uri": "https://localhost:8080/",
     "height": 134
    },
    "colab_type": "code",
    "id": "fMzFHHff5G3K",
    "outputId": "ee94e27b-469a-469a-a2e6-786312dde04b"
   },
   "outputs": [
    {
     "data": {
      "text/plain": [
       "en    9970\n",
       "es      16\n",
       "fr       8\n",
       "de       4\n",
       "id       1\n",
       "it       1\n",
       "Name: lang, dtype: int64"
      ]
     },
     "execution_count": 31,
     "metadata": {
      "tags": []
     },
     "output_type": "execute_result"
    }
   ],
   "source": [
    "lang_detection['lang'].value_counts()"
   ]
  },
  {
   "cell_type": "markdown",
   "metadata": {
    "colab_type": "text",
    "id": "aTXXZcEb5G3L"
   },
   "source": [
    "On vient ici d'identifier plusieurs commentaires qui ne sont pas en anglais et on décide de les retirer de notre jeu de données. Cependant, en terme de proportion cela ne représente que 0,31% des commentaires.<br>\n",
    "On a décidé pour la suite on décide de ne pas retenir cette variable car la détection de langue demande enormement de temps de calcul pour une proportionalité relativement faible. "
   ]
  },
  {
   "cell_type": "code",
   "execution_count": 32,
   "metadata": {
    "colab": {
     "base_uri": "https://localhost:8080/",
     "height": 34
    },
    "colab_type": "code",
    "id": "YZGAsi9M5G3M",
    "outputId": "62d57231-e456-4204-c09c-1b2f23872789"
   },
   "outputs": [
    {
     "data": {
      "text/plain": [
       "11"
      ]
     },
     "execution_count": 32,
     "metadata": {
      "tags": []
     },
     "output_type": "execute_result"
    }
   ],
   "source": [
    "### Clean memory\n",
    "n_obs = 10000\n",
    "df_train = df_train.iloc[0:n_obs]\n",
    "del sf_train_emotion_happy, sf_train_emotion_unhappy, sf_train_question_mark, sf_train_exclamation_mark, lang_detection\n",
    "gc.collect()"
   ]
  },
  {
   "cell_type": "markdown",
   "metadata": {
    "colab_type": "text",
    "id": "ETIhaeR95G3O"
   },
   "source": [
    "##  III. Preprocessing\n",
    "Pour cette étape, nous faisons les travaux comme suivant : <br>\n",
    "* Tokenizer les text -- https://www.debuggex.com/cheatsheet/regex/python \n",
    "* Enlever les punctuation <br>\n",
    "* Enlever les stopwords <br>\n",
    "* Faire une lematisation avec part of speach -- https://www.machinelearningplus.com/nlp/lemmatization-examples-python/"
   ]
  },
  {
   "cell_type": "code",
   "execution_count": null,
   "metadata": {
    "colab": {},
    "colab_type": "code",
    "id": "Gnlcx_l75G3O"
   },
   "outputs": [],
   "source": [
    "from textblob import TextBlob\n",
    "def lemmatize_with_postag(sentence):\n",
    "    sent = TextBlob(sentence)\n",
    "    tag_dict = {\"J\": 'a', \n",
    "                \"N\": 'n', \n",
    "                \"V\": 'v', \n",
    "                \"R\": 'r'}\n",
    "    words_and_tags = [(w, tag_dict.get(pos[0], 'n')) for w, pos in sent.tags]    \n",
    "    lemmatized_list = [wd.lemmatize(tag) for wd, tag in words_and_tags]\n",
    "    return \" \".join(lemmatized_list)\n",
    "\n",
    "### Function which define if a word is a number or not\n",
    "\n",
    "def is_number(word):\n",
    "    try: \n",
    "        x = float(word)\n",
    "        return (x == x) and (x - 1 != x)\n",
    "    except Exception:\n",
    "        return False\n",
    "    \n",
    "### Tokenization using regular expression pattern which keep numbers, ?_mark, !_mark, :), :(     \n",
    "tokenizer= tokenize.RegexpTokenizer(r'[0-9]*\\.?[0-9]+|[a-zA-Z]+|[!]+|[:)]+|[:(]+|[?]+|[^[a-zA-Z]\\s]+|[^[a-zA-Z][0-9]]')\n",
    "\n",
    "### dictionary number to word\n",
    "number2word = {'0':'zero','1':'one','2':'two','3':'three','4':'four','5':'five','6':'six','7':'seven','8':'eight','9':'nine','.':'point'}\n",
    "\n",
    "### English Stemming \n",
    "stemmer = SnowballStemmer('english')\n",
    "\n",
    "def text_process(mess):\n",
    "    \"\"\"\n",
    "    Takes in a string of text, then performs the following:\n",
    "    1. Remove all punctuation\n",
    "    2. Remove all stopwords\n",
    "    3. Returns a list of the cleaned text\n",
    "    4. Keep ?, keep !\n",
    "    5. Keep . for decimal numbers\n",
    "    \"\"\"\n",
    "    mess = tokenizer.tokenize(mess.lower())\n",
    "    \n",
    "    word_list = []\n",
    "        \n",
    "    for word in mess:\n",
    "        if (word ==':') or (word.startswith(')')) or (word.startswith('(')): \n",
    "            next\n",
    "        elif word.startswith(':)') :\n",
    "            word_list.append('emotion_happy')\n",
    "        elif word.startswith(':(') :\n",
    "            word_list.append('emotion_unhappy')\n",
    "        elif word.startswith('?') : \n",
    "            word_list.append('question_mark')\n",
    "        elif word.startswith('!') :\n",
    "            word_list.append('exclamation_mark')\n",
    "        elif (word not in stopwords.words('english')) and (word not in ':.%...') and (is_number(word)==False):\n",
    "            word_list.append(lemmatize_with_postag(word))\n",
    "        elif is_number(word)==True:\n",
    "            b = [number2word.get(i) for i in list(word)]\n",
    "            word_list += b\n",
    "    return word_list\n",
    "\n"
   ]
  },
  {
   "cell_type": "code",
   "execution_count": 34,
   "metadata": {
    "colab": {
     "base_uri": "https://localhost:8080/",
     "height": 742
    },
    "colab_type": "code",
    "id": "KL75-Db_5G3R",
    "outputId": "06bbd13b-0a0d-41d1-b864-086806e2462f"
   },
   "outputs": [
    {
     "name": "stdout",
     "output_type": "stream",
     "text": [
      "Pharse originale : \n",
      "\n",
      "should be titled \"Hollywood Debacle\": The plot is so ridiculous, I have to wonder if they even read the script before making this film. The mountain lion breaks out of his trailer - and the cars behind don't notice? The mountain lion is captured - and put in a jail cell? Get real! Utterly, completely stupid. \n",
      "\n",
      "Pharse transformée: \n",
      "\n",
      "title hollywood debacle plot ridiculous wonder even read script make film mountain lion break trailer car behind notice question_mark mountain lion capture put jail cell question_mark get real exclamation_mark utterly completely stupid \n",
      "\n",
      "Liste de mots (Tokenization): \n",
      "\n"
     ]
    },
    {
     "data": {
      "text/plain": [
       "['title',\n",
       " 'hollywood',\n",
       " 'debacle',\n",
       " 'plot',\n",
       " 'ridiculous',\n",
       " 'wonder',\n",
       " 'even',\n",
       " 'read',\n",
       " 'script',\n",
       " 'make',\n",
       " 'film',\n",
       " 'mountain',\n",
       " 'lion',\n",
       " 'break',\n",
       " 'trailer',\n",
       " 'car',\n",
       " 'behind',\n",
       " 'notice',\n",
       " 'question_mark',\n",
       " 'mountain',\n",
       " 'lion',\n",
       " 'capture',\n",
       " 'put',\n",
       " 'jail',\n",
       " 'cell',\n",
       " 'question_mark',\n",
       " 'get',\n",
       " 'real',\n",
       " 'exclamation_mark',\n",
       " 'utterly',\n",
       " 'completely',\n",
       " 'stupid']"
      ]
     },
     "execution_count": 34,
     "metadata": {
      "tags": []
     },
     "output_type": "execute_result"
    }
   ],
   "source": [
    "print('Pharse originale : \\n')\n",
    "print(df_train['text'][32],'\\n')\n",
    "print('Pharse transformée: \\n')\n",
    "print(' '.join(text_process(df_train['text'][32])),'\\n')\n",
    "print('Liste de mots (Tokenization): \\n')\n",
    "text_process(df_train['text'][32])"
   ]
  },
  {
   "cell_type": "code",
   "execution_count": 35,
   "metadata": {
    "colab": {
     "base_uri": "https://localhost:8080/",
     "height": 742
    },
    "colab_type": "code",
    "id": "CM68YaUj5G3S",
    "outputId": "8c4e6062-c0cc-462d-846e-8068c2e82324"
   },
   "outputs": [
    {
     "name": "stdout",
     "output_type": "stream",
     "text": [
      "Pharse originale : \n",
      "\n",
      "Great desk and a great buy! Thanks Amazon:): We bought this desk for my seven year old daughter to keep her lap top on and to do homework. It was not to disappoint. The desk is perfect size for her to sit and work. Very high quality and easy to put together. I would highly recommend this product to others? \n",
      "\n",
      "Pharse transformée: \n",
      "\n",
      "great desk great buy exclamation_mark thanks amazon emotion_happy bought desk seven year old daughter keep lap top homework disappoint desk perfect size sit work high quality easy put together would highly recommend product others question_mark \n",
      "\n",
      "Liste de mots (Tokenization): \n",
      "\n"
     ]
    },
    {
     "data": {
      "text/plain": [
       "['title',\n",
       " 'hollywood',\n",
       " 'debacle',\n",
       " 'plot',\n",
       " 'ridiculous',\n",
       " 'wonder',\n",
       " 'even',\n",
       " 'read',\n",
       " 'script',\n",
       " 'make',\n",
       " 'film',\n",
       " 'mountain',\n",
       " 'lion',\n",
       " 'break',\n",
       " 'trailer',\n",
       " 'car',\n",
       " 'behind',\n",
       " 'notice',\n",
       " 'question_mark',\n",
       " 'mountain',\n",
       " 'lion',\n",
       " 'capture',\n",
       " 'put',\n",
       " 'jail',\n",
       " 'cell',\n",
       " 'question_mark',\n",
       " 'get',\n",
       " 'real',\n",
       " 'exclamation_mark',\n",
       " 'utterly',\n",
       " 'completely',\n",
       " 'stupid']"
      ]
     },
     "execution_count": 35,
     "metadata": {
      "tags": []
     },
     "output_type": "execute_result"
    }
   ],
   "source": [
    "print('Pharse originale : \\n')\n",
    "print(df_train['text'][979],'\\n')\n",
    "print('Pharse transformée: \\n')\n",
    "print(' '.join(text_process(df_train['text'][979])),'\\n')\n",
    "print('Liste de mots (Tokenization): \\n')\n",
    "text_process(df_train['text'][32])"
   ]
  },
  {
   "cell_type": "markdown",
   "metadata": {
    "colab_type": "text",
    "id": "VNTpvLlN5G3U"
   },
   "source": [
    "Pour la suite, nous ferons la modélisation sur seulement 10000 observations. On choisira le meuilleur modèle et l'addapte sur tout le jeu d'apprentisage, puis on sortira le résultat prévu sur la base de test."
   ]
  },
  {
   "cell_type": "code",
   "execution_count": null,
   "metadata": {
    "colab": {},
    "colab_type": "code",
    "id": "h47YsRoW5G3U"
   },
   "outputs": [],
   "source": [
    "### These functions allow us to work in parallel\n",
    "num_partitions = 10 #number of partitions to split dataframe\n",
    "num_cores = 4 #number of cores on your machine\n",
    "\n",
    "def vec_text_process(array):\n",
    "    return array.apply(text_process)\n",
    "\n",
    "def parallelize_dataframe(df):\n",
    "    df_split = np.array_split(df, num_partitions)\n",
    "    pool = Pool(num_cores)\n",
    "    df = pd.Series(list(chain.from_iterable(pool.map(vec_text_process, df_split))))\n",
    "    pool.close()\n",
    "    pool.join()\n",
    "    return df\n",
    "\n",
    "df_train_tokens = parallelize_dataframe(df_train['text'][0:n_obs])"
   ]
  },
  {
   "cell_type": "markdown",
   "metadata": {
    "colab_type": "text",
    "id": "TUtE_aY15G3W"
   },
   "source": [
    "\n",
    "##  IV. Création de la matrice des features\n",
    "Nous allons transformer notre texte en matrice numérique pouvant etre implémenté dans différents algorithmes de machine learning pour faire de la classifacation.\n",
    "\n",
    "Il existe plusieurs méthode de transformation du texte. Le plus simple d'entre eux est le Bag-of-words ou en ligne on aura les différents commentaire et en colone chaque unique mot présent dans le texte analisé.\n",
    "### IV.1 Train test splitting\n"
   ]
  },
  {
   "cell_type": "code",
   "execution_count": 37,
   "metadata": {
    "colab": {
     "base_uri": "https://localhost:8080/",
     "height": 34
    },
    "colab_type": "code",
    "id": "jviogL4D5G3W",
    "outputId": "e2b526db-d342-4a02-9caa-59ecf970fa4e"
   },
   "outputs": [
    {
     "data": {
      "text/plain": [
       "0"
      ]
     },
     "execution_count": 37,
     "metadata": {
      "tags": []
     },
     "output_type": "execute_result"
    }
   ],
   "source": [
    "train_index = df_train.index.isin(sample(range(int(n_obs)), int(n_obs*0.7)))\n",
    "X_train = df_train_tokens[train_index]\n",
    "Y_train = df_train['label_new'][train_index].reset_index(drop=True)\n",
    "\n",
    "X_test = df_train_tokens[~train_index].reset_index(drop=True)\n",
    "Y_test = df_train['label_new'][~train_index].reset_index(drop=True)\n",
    "\n",
    "### Clear memory\n",
    "#del df_train, df_train_tokens\n",
    "gc.collect()"
   ]
  },
  {
   "cell_type": "markdown",
   "metadata": {
    "colab_type": "text",
    "id": "4qB-BbQV5G3b"
   },
   "source": [
    "###  IV.2  Frequence d'apparution des mots "
   ]
  },
  {
   "cell_type": "code",
   "execution_count": null,
   "metadata": {
    "colab": {},
    "colab_type": "code",
    "id": "rLL8EFJd5G3c"
   },
   "outputs": [],
   "source": [
    "### Create a dictionary \n",
    "df_train_dict = gensim.corpora.Dictionary(X_train)"
   ]
  },
  {
   "cell_type": "code",
   "execution_count": 39,
   "metadata": {
    "colab": {
     "base_uri": "https://localhost:8080/",
     "height": 482
    },
    "colab_type": "code",
    "id": "Ra7Wg0yB5G3d",
    "outputId": "fbd06b9c-aa92-4e97-ed06-b63eee434137"
   },
   "outputs": [
    {
     "data": {
      "image/png": "[encoded data removed]",
      "text/plain": [
       "<Figure size 864x576 with 1 Axes>"
      ]
     },
     "metadata": {
      "tags": []
     },
     "output_type": "display_data"
    }
   ],
   "source": [
    "### we draw word cloud on first 10000 reviews \n",
    "text = ' '.join(df_train['text'].str.lower().values[0:10000])\n",
    "wordcloud = WordCloud(max_font_size=None, stopwords=stop, background_color='white',\n",
    "                      width=1200, height=1000).generate(text)\n",
    "plt.figure(figsize=(12, 8))\n",
    "plt.imshow(wordcloud)\n",
    "plt.title('Top words in review')\n",
    "plt.axis(\"off\")\n",
    "plt.show()"
   ]
  },
  {
   "cell_type": "code",
   "execution_count": 40,
   "metadata": {
    "colab": {
     "base_uri": "https://localhost:8080/",
     "height": 34
    },
    "colab_type": "code",
    "id": "Zm8VjIwC5G3f",
    "outputId": "40b9409b-4797-4981-a4ba-5f45e8e2ba9d"
   },
   "outputs": [
    {
     "data": {
      "text/plain": [
       "1660"
      ]
     },
     "execution_count": 40,
     "metadata": {
      "tags": []
     },
     "output_type": "execute_result"
    }
   ],
   "source": [
    "### Clear memory\n",
    "del df_train, df_train_tokens\n",
    "gc.collect()"
   ]
  },
  {
   "cell_type": "code",
   "execution_count": null,
   "metadata": {
    "colab": {},
    "colab_type": "code",
    "id": "RK3c8gD65G3g"
   },
   "outputs": [],
   "source": [
    "# fonction qui sort la dataframe de la fréquence\n",
    "def most_frequent_words(dictionary) : \n",
    "    df_tokens = pd.DataFrame.from_dict(dictionary.dfs, orient='index',columns=['counts'])\n",
    "    get_words = np.vectorize(dictionary.get)\n",
    "    df_tokens['word'] = get_words(df_tokens.index)\n",
    "    df_tokens.sort_values('counts',ascending=False,inplace = True)\n",
    "    return df_tokens\n",
    "df_tokens = most_frequent_words(df_train_dict)"
   ]
  },
  {
   "cell_type": "code",
   "execution_count": 49,
   "metadata": {
    "colab": {
     "base_uri": "https://localhost:8080/",
     "height": 34
    },
    "colab_type": "code",
    "id": "zYEWKA_c5G3h",
    "outputId": "46a0e44b-4824-480e-c0c2-805531531dd7"
   },
   "outputs": [
    {
     "name": "stdout",
     "output_type": "stream",
     "text": [
      "The length of dictionary = 20607\n"
     ]
    }
   ],
   "source": [
    "print('The length of dictionary =', df_tokens.shape[0])"
   ]
  },
  {
   "cell_type": "code",
   "execution_count": 50,
   "metadata": {
    "colab": {
     "base_uri": "https://localhost:8080/",
     "height": 195
    },
    "colab_type": "code",
    "id": "GZs-Goa_5G3j",
    "outputId": "5b02912f-e55d-427d-8bf4-f097ea6c2c28"
   },
   "outputs": [
    {
     "data": {
      "text/html": [
       "<div>\n",
       "<style scoped>\n",
       "    .dataframe tbody tr th:only-of-type {\n",
       "        vertical-align: middle;\n",
       "    }\n",
       "\n",
       "    .dataframe tbody tr th {\n",
       "        vertical-align: top;\n",
       "    }\n",
       "\n",
       "    .dataframe thead th {\n",
       "        text-align: right;\n",
       "    }\n",
       "</style>\n",
       "<table border=\"1\" class=\"dataframe\">\n",
       "  <thead>\n",
       "    <tr style=\"text-align: right;\">\n",
       "      <th></th>\n",
       "      <th>counts</th>\n",
       "      <th>word</th>\n",
       "    </tr>\n",
       "  </thead>\n",
       "  <tbody>\n",
       "    <tr>\n",
       "      <th>0</th>\n",
       "      <td>2943</td>\n",
       "      <td>one</td>\n",
       "    </tr>\n",
       "    <tr>\n",
       "      <th>1</th>\n",
       "      <td>2331</td>\n",
       "      <td>exclamation_mark</td>\n",
       "    </tr>\n",
       "    <tr>\n",
       "      <th>2</th>\n",
       "      <td>2250</td>\n",
       "      <td>book</td>\n",
       "    </tr>\n",
       "    <tr>\n",
       "      <th>3</th>\n",
       "      <td>1773</td>\n",
       "      <td>get</td>\n",
       "    </tr>\n",
       "    <tr>\n",
       "      <th>4</th>\n",
       "      <td>1709</td>\n",
       "      <td>like</td>\n",
       "    </tr>\n",
       "  </tbody>\n",
       "</table>\n",
       "</div>"
      ],
      "text/plain": [
       "   counts              word\n",
       "0    2943               one\n",
       "1    2331  exclamation_mark\n",
       "2    2250              book\n",
       "3    1773               get\n",
       "4    1709              like"
      ]
     },
     "execution_count": 50,
     "metadata": {
      "tags": []
     },
     "output_type": "execute_result"
    }
   ],
   "source": [
    "df_tokens.reset_index(drop = True, inplace=True)\n",
    "df_tokens.head()"
   ]
  },
  {
   "cell_type": "code",
   "execution_count": 51,
   "metadata": {
    "colab": {
     "base_uri": "https://localhost:8080/",
     "height": 585
    },
    "colab_type": "code",
    "id": "2_O0XyHA5G3k",
    "outputId": "d1239532-118e-4431-c2ed-bd2d62087b93"
   },
   "outputs": [
    {
     "data": {
      "image/png": "[encoded data removed]",
      "text/plain": [
       "<Figure size 1008x576 with 2 Axes>"
      ]
     },
     "metadata": {
      "tags": []
     },
     "output_type": "display_data"
    }
   ],
   "source": [
    "fig, ax1 = plt.subplots(figsize=(14,8))\n",
    "g = sns.barplot(df_tokens['word'][0:50],y=df_tokens['counts'][0:50], ax=ax1)\n",
    "plt.xticks(rotation=90,fontsize=10)\n",
    "plt.title('The most 50 frequent words')\n",
    "\n",
    "ax2 = ax1.twinx()\n",
    "ax2.set_ylim(0,ax1.get_ylim()[1]/X_train.shape[0])\n",
    "ax2.set_ylabel('counts / documents')\n",
    "fig.tight_layout() \n",
    "plt.show()"
   ]
  },
  {
   "cell_type": "code",
   "execution_count": 52,
   "metadata": {
    "colab": {
     "base_uri": "https://localhost:8080/",
     "height": 168
    },
    "colab_type": "code",
    "id": "NfiRA2-K5G3n",
    "outputId": "cd47175e-8590-4b86-9ad5-57d2105babfc"
   },
   "outputs": [
    {
     "data": {
      "text/plain": [
       "count    20607.000000\n",
       "mean        11.962974\n",
       "std         65.602320\n",
       "min          1.000000\n",
       "25%          1.000000\n",
       "50%          1.000000\n",
       "75%          4.000000\n",
       "max       2943.000000\n",
       "Name: counts, dtype: float64"
      ]
     },
     "execution_count": 52,
     "metadata": {
      "tags": []
     },
     "output_type": "execute_result"
    }
   ],
   "source": [
    "df_tokens['counts'].describe()"
   ]
  },
  {
   "cell_type": "code",
   "execution_count": 53,
   "metadata": {
    "colab": {
     "base_uri": "https://localhost:8080/",
     "height": 84
    },
    "colab_type": "code",
    "id": "O2TmiOM05G3s",
    "outputId": "f9f0b1ea-df46-4e19-d31c-258aaf37fc1f"
   },
   "outputs": [
    {
     "name": "stdout",
     "output_type": "stream",
     "text": [
      "Quantile 95% : 40.0\n",
      "Quantile 97.5% : 83.84999999999854\n",
      "Number of words appearing only 1 time = 10583\n",
      "Number of frequencies of the 10000th word = 2\n"
     ]
    }
   ],
   "source": [
    "print('Quantile 95% :', np.quantile(df_tokens['counts'], 0.95))\n",
    "print('Quantile 97.5% :', np.quantile(df_tokens['counts'], 0.975))\n",
    "print('Number of words appearing only 1 time =', sum(df_tokens['counts'] ==1 ))\n",
    "print('Number of frequencies of the 10000th word =', df_tokens['counts'][9999])"
   ]
  },
  {
   "cell_type": "markdown",
   "metadata": {
    "colab_type": "text",
    "id": "RikX1rjS5G3u"
   },
   "source": [
    "En ne prenant en compte que l'intensité d'apparution des mots sur le graphe cidessus, on se rend compte que la représentation n'est pas tres net et difficile à interpréter.<br>\n",
    "Pour la suite, on va multiplier cette frequence par une variable permettant de définir le poid de chaque mots\n"
   ]
  },
  {
   "cell_type": "code",
   "execution_count": null,
   "metadata": {
    "colab": {},
    "colab_type": "code",
    "id": "HMCp0v135G3u"
   },
   "outputs": [],
   "source": [
    "df_train_dict_1 = df_train_dict\n",
    "df_train_dict_1.filter_extremes(keep_n=1000)\n",
    "X_train_corpus  = [df_train_dict_1.doc2bow(doc) for doc in X_train]\n",
    "X_train_visu = gensim.matutils.corpus2dense(X_train_corpus, num_terms=len(df_train_dict_1)).T\n",
    "a = X_train_visu/ X_train_visu.sum(axis =0)[None,:]"
   ]
  },
  {
   "cell_type": "code",
   "execution_count": 55,
   "metadata": {
    "colab": {
     "base_uri": "https://localhost:8080/",
     "height": 188
    },
    "colab_type": "code",
    "id": "mTMSi27g5G3w",
    "outputId": "f2f82970-496a-4e41-d273-74ed0a0e9ec9"
   },
   "outputs": [
    {
     "data": {
      "text/plain": [
       "<matplotlib.image.AxesImage at 0x7f4559e4cb38>"
      ]
     },
     "execution_count": 55,
     "metadata": {
      "tags": []
     },
     "output_type": "execute_result"
    },
    {
     "data": {
      "image/png": "[encoded data removed]",
      "text/plain": [
       "<Figure size 1080x576 with 1 Axes>"
      ]
     },
     "metadata": {
      "tags": []
     },
     "output_type": "display_data"
    }
   ],
   "source": [
    "plt.figure(figsize=(15,8))\n",
    "\n",
    "plt.imshow(a[np.argsort(Y_train),:].T,)"
   ]
  },
  {
   "cell_type": "markdown",
   "metadata": {
    "colab_type": "text",
    "id": "e8GzcO3j5G3z"
   },
   "source": [
    "Le gaphique ci-dessus illustre la densité de mots dans la matrice de Bage of Words<br>\n",
    "Nous decidons de garder 10000 mots les plus présentants dans la dictionnaire <br>"
   ]
  },
  {
   "cell_type": "code",
   "execution_count": null,
   "metadata": {
    "colab": {},
    "colab_type": "code",
    "id": "MYvxzWD05G3z"
   },
   "outputs": [],
   "source": [
    "df_train_dict.filter_extremes(keep_n=10000)"
   ]
  },
  {
   "cell_type": "code",
   "execution_count": null,
   "metadata": {
    "colab": {},
    "colab_type": "code",
    "id": "Sna_rmcG5G31"
   },
   "outputs": [],
   "source": [
    "X_train_corpus  = [df_train_dict.doc2bow(doc) for doc in X_train]\n",
    "X_train_tfidf = gensim.models.TfidfModel(X_train_corpus, df_train_dict)\n",
    "\n",
    "### transform data to spare matrix in order to reduce memory\n",
    "X_train_tfidf_full = gensim.matutils.corpus2csc(X_train_tfidf[X_train_corpus], num_terms=len(df_train_dict)).T"
   ]
  },
  {
   "cell_type": "code",
   "execution_count": null,
   "metadata": {
    "colab": {},
    "colab_type": "code",
    "id": "0KczZuUR5G33"
   },
   "outputs": [],
   "source": [
    "X_test_corpus  = [df_train_dict.doc2bow(doc) for doc in X_test]\n",
    "X_test_tfidf = gensim.models.TfidfModel(X_test_corpus, df_train_dict)\n",
    "\n",
    "### transform data to spare matrix in order to reduce memory\n",
    "X_test_tfidf_full = gensim.matutils.corpus2csc(X_test_tfidf[X_test_corpus], num_terms=len(df_train_dict)).T"
   ]
  },
  {
   "cell_type": "code",
   "execution_count": 59,
   "metadata": {
    "colab": {
     "base_uri": "https://localhost:8080/",
     "height": 188
    },
    "colab_type": "code",
    "id": "rU-2J0sA5G34",
    "outputId": "f683c623-5d3c-43b8-f86a-24aa6371c402"
   },
   "outputs": [
    {
     "data": {
      "text/plain": [
       "<matplotlib.image.AxesImage at 0x7f4559c3aeb8>"
      ]
     },
     "execution_count": 59,
     "metadata": {
      "tags": []
     },
     "output_type": "execute_result"
    },
    {
     "data": {
      "image/png": "[encoded data removed]",
      "text/plain": [
       "<Figure size 1080x576 with 1 Axes>"
      ]
     },
     "metadata": {
      "tags": []
     },
     "output_type": "display_data"
    }
   ],
   "source": [
    "df_train_dict.filter_extremes(keep_n=1000)\n",
    "X_train_corpus_visu  = [df_train_dict.doc2bow(doc) for doc in X_train]\n",
    "X_train_tfidf_visu = gensim.models.TfidfModel(X_train_corpus_visu, df_train_dict)\n",
    "X_train_tfidf_visu = gensim.matutils.corpus2dense(X_train_tfidf_visu[X_train_corpus_visu], num_terms=len(df_train_dict)).T\n",
    "b = X_train_tfidf_visu/ X_train_tfidf_visu.sum(axis =0)[None,:]\n",
    "plt.figure(figsize=(15,8))\n",
    "plt.imshow(b[np.argsort(Y_train),:].T)"
   ]
  },
  {
   "cell_type": "markdown",
   "metadata": {
    "colab_type": "text",
    "id": "QMaaiao65G36"
   },
   "source": [
    "Le gaphique ci-dessus illustre le poid des mots dans la matrice de TF-IDF <br>\n",
    "Pour la suite, on utilisera la matrice TF-IDF parce qu'on considère qu'elle est la version \"scaling\" du Bag of Words, et est plus addaptée pour la plupart des algorithme de ML"
   ]
  },
  {
   "cell_type": "markdown",
   "metadata": {
    "colab_type": "text",
    "id": "84hAfY-l5G36"
   },
   "source": [
    "### IV.3 Réduction de dimention<br>\n",
    "\n",
    "A cette étape, on souhaite réduire la taille de notre matrice. En effet, le bag of words selectione tout les mots uniques dans l'enssemble de commentaires ce qui peut entrainer avec un trop grand nombre de zero car certaint mots n'apparaissent que dans une poigné de commentaires.\n",
    "\n",
    "Deplus, une matrie de taille pleine peut entrainer des erreurs dans notre algorhytme c'est pour quoi\n",
    "il a été normale de se questioner sur la viabilité de conserver ces mots dans notre matrice\n",
    "\n",
    "Pour effectuer cette réduction, nous testerons différentes méthodes qui se prete bien au traitement de texte. <br>\n",
    "\n",
    "Les quelques methodes implémenté sont : \n",
    "\n",
    "1. Principal component analysis (PCA)\n",
    "2. Random projection (RP)\n",
    "3. Latent Dirichet Allocation (LDA) http://cs229.stanford.edu/proj2017/final-reports/5163902.pdf\n",
    "4. Uniform Manifold Approximation and Projection (UMAP)\n",
    "\n",
    "#### IV.3.1 PCA"
   ]
  },
  {
   "cell_type": "code",
   "execution_count": null,
   "metadata": {
    "colab": {},
    "colab_type": "code",
    "id": "Gqa6mjqD5G37"
   },
   "outputs": [],
   "source": [
    "### For PCA, we try first with 200 components\n",
    "p = time.time()\n",
    "pca = PCA(n_components = 200)\n",
    "X_train_tfidf_pca = pca.fit_transform(X_train_tfidf_full.A)\n"
   ]
  },
  {
   "cell_type": "code",
   "execution_count": 61,
   "metadata": {
    "colab": {
     "base_uri": "https://localhost:8080/",
     "height": 402
    },
    "colab_type": "code",
    "id": "80oaPGvt5G38",
    "outputId": "40b5faa6-4856-4d29-fb23-7cf0d310aaed"
   },
   "outputs": [
    {
     "data": {
      "text/html": [
       "<div>\n",
       "<style scoped>\n",
       "    .dataframe tbody tr th:only-of-type {\n",
       "        vertical-align: middle;\n",
       "    }\n",
       "\n",
       "    .dataframe tbody tr th {\n",
       "        vertical-align: top;\n",
       "    }\n",
       "\n",
       "    .dataframe thead th {\n",
       "        text-align: right;\n",
       "    }\n",
       "</style>\n",
       "<table border=\"1\" class=\"dataframe\">\n",
       "  <thead>\n",
       "    <tr style=\"text-align: right;\">\n",
       "      <th></th>\n",
       "      <th>Number of components</th>\n",
       "      <th>Cumulative of variance ratio</th>\n",
       "    </tr>\n",
       "  </thead>\n",
       "  <tbody>\n",
       "    <tr>\n",
       "      <th>0</th>\n",
       "      <td>1</td>\n",
       "      <td>0.011826</td>\n",
       "    </tr>\n",
       "    <tr>\n",
       "      <th>1</th>\n",
       "      <td>2</td>\n",
       "      <td>0.022762</td>\n",
       "    </tr>\n",
       "    <tr>\n",
       "      <th>2</th>\n",
       "      <td>3</td>\n",
       "      <td>0.030978</td>\n",
       "    </tr>\n",
       "    <tr>\n",
       "      <th>3</th>\n",
       "      <td>4</td>\n",
       "      <td>0.038474</td>\n",
       "    </tr>\n",
       "    <tr>\n",
       "      <th>4</th>\n",
       "      <td>5</td>\n",
       "      <td>0.045275</td>\n",
       "    </tr>\n",
       "    <tr>\n",
       "      <th>...</th>\n",
       "      <td>...</td>\n",
       "      <td>...</td>\n",
       "    </tr>\n",
       "    <tr>\n",
       "      <th>195</th>\n",
       "      <td>196</td>\n",
       "      <td>0.442414</td>\n",
       "    </tr>\n",
       "    <tr>\n",
       "      <th>196</th>\n",
       "      <td>197</td>\n",
       "      <td>0.443662</td>\n",
       "    </tr>\n",
       "    <tr>\n",
       "      <th>197</th>\n",
       "      <td>198</td>\n",
       "      <td>0.444906</td>\n",
       "    </tr>\n",
       "    <tr>\n",
       "      <th>198</th>\n",
       "      <td>199</td>\n",
       "      <td>0.446142</td>\n",
       "    </tr>\n",
       "    <tr>\n",
       "      <th>199</th>\n",
       "      <td>200</td>\n",
       "      <td>0.447378</td>\n",
       "    </tr>\n",
       "  </tbody>\n",
       "</table>\n",
       "<p>200 rows × 2 columns</p>\n",
       "</div>"
      ],
      "text/plain": [
       "     Number of components  Cumulative of variance ratio\n",
       "0                       1                      0.011826\n",
       "1                       2                      0.022762\n",
       "2                       3                      0.030978\n",
       "3                       4                      0.038474\n",
       "4                       5                      0.045275\n",
       "..                    ...                           ...\n",
       "195                   196                      0.442414\n",
       "196                   197                      0.443662\n",
       "197                   198                      0.444906\n",
       "198                   199                      0.446142\n",
       "199                   200                      0.447378\n",
       "\n",
       "[200 rows x 2 columns]"
      ]
     },
     "execution_count": 61,
     "metadata": {
      "tags": []
     },
     "output_type": "execute_result"
    }
   ],
   "source": [
    "pca_analysis = pd.DataFrame(columns = ['Number of components','Cumulative of variance ratio'])\n",
    "pca_analysis['Number of components'] = np.arange(1,201)\n",
    "pca_analysis['Cumulative of variance ratio'] = np.cumsum(pca.explained_variance_ratio_)\n",
    "pca_analysis"
   ]
  },
  {
   "cell_type": "markdown",
   "metadata": {
    "colab_type": "text",
    "id": "X6PwcZFc5G39"
   },
   "source": [
    "Dans notre ACP on fait le choix  de 200  composante principale qui ne contribue que de 20% de la totalité de nos variable. à premiere vue, ce n'est pas très significatif mais pour des soucis de temps de calcul on accepte et regardera plus tard si on doit en récupérer plus."
   ]
  },
  {
   "cell_type": "code",
   "execution_count": null,
   "metadata": {
    "colab": {},
    "colab_type": "code",
    "id": "-wpYkNaq5G3-"
   },
   "outputs": [],
   "source": [
    "X_test_tfidf_pca = pca.transform(X_test_tfidf_full.A)\n",
    "time_pca=time.time() - p"
   ]
  },
  {
   "cell_type": "markdown",
   "metadata": {
    "colab_type": "text",
    "id": "ebsVW5QU5G4A"
   },
   "source": [
    "#### IV.3.2 LDA"
   ]
  },
  {
   "cell_type": "code",
   "execution_count": null,
   "metadata": {
    "colab": {},
    "colab_type": "code",
    "id": "Mw9DLiJi5G4A"
   },
   "outputs": [],
   "source": [
    "p = time.time()\n",
    "lda_model_tfidf = gensim.models.LdaMulticore(X_train_tfidf[X_train_corpus], num_topics= 20, id2word=df_train_dict, passes=2, workers=4)\n",
    "X_train_lda_topic = lda_model_tfidf[X_train_tfidf[X_train_corpus]]\n",
    "X_train_tfidf_lda = sparse.lil_matrix((len(X_train_tfidf[X_train_corpus]),20), dtype=np.float64)\n",
    "\n",
    "for i in range(len(X_train_tfidf[X_train_corpus])):\n",
    "    for j in X_train_lda_topic[i]:\n",
    "        X_train_tfidf_lda[i,j[0]] = j[1]\n",
    "\n",
    "X_test_lda_topic = lda_model_tfidf[X_test_tfidf[X_test_corpus]]\n",
    "X_test_tfidf_lda = sparse.lil_matrix((len(X_test_tfidf[X_test_corpus]),20), dtype=np.float64)\n",
    "\n",
    "for i in range(len(X_test_tfidf[X_test_corpus])):\n",
    "    for j in X_test_lda_topic[i]:\n",
    "        X_test_tfidf_lda[i,j[0]] = j[1]\n",
    "        \n",
    "del lda_model_tfidf, X_train_lda_topic, X_test_lda_topic\n",
    "time_lda=time.time() - p"
   ]
  },
  {
   "cell_type": "markdown",
   "metadata": {
    "colab_type": "text",
    "id": "fsRQQcqu5G4B"
   },
   "source": [
    "#### IV.3.3 RP"
   ]
  },
  {
   "cell_type": "code",
   "execution_count": null,
   "metadata": {
    "colab": {},
    "colab_type": "code",
    "id": "qAeeow-D5G4C"
   },
   "outputs": [],
   "source": [
    "p = time.time()\n",
    "rp_model_tfidf = gensim.models.RpModel(X_train_tfidf[X_train_corpus], id2word=df_train_dict, num_topics= 100)\n",
    "X_train_rp_topic = rp_model_tfidf[X_train_tfidf[X_train_corpus]]\n",
    "X_train_tfidf_rp = sparse.lil_matrix((len(X_train_tfidf[X_train_corpus]),100), dtype=np.float64)\n",
    "\n",
    "for i in range(len(X_train_tfidf[X_train_corpus])):\n",
    "    for j in X_train_rp_topic[i]:\n",
    "        X_train_tfidf_rp[i,j[0]] = j[1]\n",
    "        \n",
    "\n",
    "X_test_rp_topic = rp_model_tfidf[X_test_tfidf[X_test_corpus]]\n",
    "X_test_tfidf_rp = sparse.lil_matrix((len(X_test_tfidf[X_test_corpus]),100), dtype=np.float64)\n",
    "\n",
    "for i in range(len(X_test_tfidf[X_test_corpus])):\n",
    "    for j in X_test_rp_topic[i]:\n",
    "        X_test_tfidf_rp[i,j[0]] = j[1]\n",
    "        \n",
    "del rp_model_tfidf, X_train_rp_topic, X_test_rp_topic\n",
    "\n",
    "time_rp=time.time() - p"
   ]
  },
  {
   "cell_type": "markdown",
   "metadata": {
    "colab_type": "text",
    "id": "v6wFmaOl5G4D"
   },
   "source": [
    "#### IV.3.4 UMAP"
   ]
  },
  {
   "cell_type": "code",
   "execution_count": null,
   "metadata": {
    "colab": {},
    "colab_type": "code",
    "id": "giGDiUQo5G4D"
   },
   "outputs": [],
   "source": [
    "### n_components can be set between 1 to 100, but this technique consume a lot of time, so we choose only 20\n",
    "p = time.time()\n",
    "umap = UMAP(n_components=20, metric = 'cosine')\n",
    "X_train_tfidf_umap = umap.fit_transform(X_train_tfidf_full.A)\n",
    "X_test_tfidf_umap = umap.transform(X_test_tfidf_full.A)\n",
    "del umap\n",
    "time_umap = time.time()-p"
   ]
  },
  {
   "cell_type": "markdown",
   "metadata": {
    "colab_type": "text",
    "id": "jdM36kus5G4E"
   },
   "source": [
    "Par ailleurs, on rattache a cette matrice  l'analyse des sentiment et les variable supplémentaire crée précédemment."
   ]
  },
  {
   "cell_type": "code",
   "execution_count": null,
   "metadata": {
    "colab": {},
    "colab_type": "code",
    "id": "bPhyfyq15G4G"
   },
   "outputs": [],
   "source": [
    "train_sentiment['len'] = Normalizer().fit_transform(np.array(train_sentiment['len']).reshape(1,-1)).reshape(-1,1)\n",
    "sentiment = train_sentiment[['neg','neu','pos','compound','len']]\n",
    "del train_sentiment\n",
    "\n",
    "X_train_tfidf_full = sparse.hstack((sentiment[0:int(n_obs*0.7)], X_train_tfidf_full))\n",
    "X_test_tfidf_full = sparse.hstack((sentiment[int(n_obs*0.7):n_obs], X_test_tfidf_full))\n",
    "\n",
    "X_train_tfidf_pca = np.concatenate([sentiment[0:int(n_obs*0.7)],X_train_tfidf_pca],axis =1)\n",
    "X_test_tfidf_pca = np.concatenate([sentiment[int(n_obs*0.7):n_obs],X_test_tfidf_pca],axis =1)\n",
    "\n",
    "X_train_tfidf_lda = sparse.hstack((sentiment[0:int(n_obs*0.7)], X_train_tfidf_lda))\n",
    "X_test_tfidf_lda = sparse.hstack((sentiment[int(n_obs*0.7):n_obs], X_test_tfidf_lda))\n",
    "\n",
    "X_train_tfidf_rp = sparse.hstack((sentiment[0:int(n_obs*0.7)], X_train_tfidf_rp))\n",
    "X_test_tfidf_rp = sparse.hstack((sentiment[int(n_obs*0.7):n_obs], X_test_tfidf_rp))\n",
    "\n",
    "X_train_tfidf_umap = np.concatenate([sentiment[0:int(n_obs*0.7)],X_train_tfidf_umap],axis =1)\n",
    "X_test_tfidf_umap = np.concatenate([sentiment[int(n_obs*0.7):n_obs],X_test_tfidf_umap],axis =1)\n",
    "\n",
    "del sentiment"
   ]
  },
  {
   "cell_type": "code",
   "execution_count": null,
   "metadata": {
    "colab": {},
    "colab_type": "code",
    "id": "dGvwtKKT5G4I"
   },
   "outputs": [],
   "source": [
    "### Clean memory\n",
    "del X_train, X_test"
   ]
  },
  {
   "cell_type": "code",
   "execution_count": 68,
   "metadata": {
    "colab": {
     "base_uri": "https://localhost:8080/",
     "height": 34
    },
    "colab_type": "code",
    "id": "koTVoN8x5G4K",
    "outputId": "2053bda6-cc61-4c37-f567-878d8e7a7389"
   },
   "outputs": [
    {
     "data": {
      "text/plain": [
       "29761"
      ]
     },
     "execution_count": 68,
     "metadata": {
      "tags": []
     },
     "output_type": "execute_result"
    }
   ],
   "source": [
    "gc.collect()"
   ]
  },
  {
   "cell_type": "markdown",
   "metadata": {
    "colab_type": "text",
    "id": "aIRrKvwd5G4L"
   },
   "source": [
    "#### IV.3.5 Comparaison des méthodes de la reduction de dimension "
   ]
  },
  {
   "cell_type": "code",
   "execution_count": 69,
   "metadata": {
    "colab": {
     "base_uri": "https://localhost:8080/",
     "height": 166
    },
    "colab_type": "code",
    "id": "zsr_zebS5G4M",
    "outputId": "aa19fb89-c66d-4f5f-857d-8018a133dbb5"
   },
   "outputs": [
    {
     "data": {
      "text/html": [
       "<div>\n",
       "<style scoped>\n",
       "    .dataframe tbody tr th:only-of-type {\n",
       "        vertical-align: middle;\n",
       "    }\n",
       "\n",
       "    .dataframe tbody tr th {\n",
       "        vertical-align: top;\n",
       "    }\n",
       "\n",
       "    .dataframe thead th {\n",
       "        text-align: right;\n",
       "    }\n",
       "</style>\n",
       "<table border=\"1\" class=\"dataframe\">\n",
       "  <thead>\n",
       "    <tr style=\"text-align: right;\">\n",
       "      <th></th>\n",
       "      <th>Method</th>\n",
       "      <th>Computing time</th>\n",
       "      <th>Number of new features</th>\n",
       "    </tr>\n",
       "  </thead>\n",
       "  <tbody>\n",
       "    <tr>\n",
       "      <th>0</th>\n",
       "      <td>Principal component analysis (PCA)</td>\n",
       "      <td>11.090792</td>\n",
       "      <td>200</td>\n",
       "    </tr>\n",
       "    <tr>\n",
       "      <th>1</th>\n",
       "      <td>Random projection (RP)</td>\n",
       "      <td>14.050157</td>\n",
       "      <td>20</td>\n",
       "    </tr>\n",
       "    <tr>\n",
       "      <th>2</th>\n",
       "      <td>Latent Dirichet Allocation (LDA)</td>\n",
       "      <td>72.098540</td>\n",
       "      <td>100</td>\n",
       "    </tr>\n",
       "    <tr>\n",
       "      <th>3</th>\n",
       "      <td>Uniform Manifold Approximation and Projection ...</td>\n",
       "      <td>63.171845</td>\n",
       "      <td>20</td>\n",
       "    </tr>\n",
       "  </tbody>\n",
       "</table>\n",
       "</div>"
      ],
      "text/plain": [
       "                                              Method  ...  Number of new features\n",
       "0                 Principal component analysis (PCA)  ...                     200\n",
       "1                             Random projection (RP)  ...                      20\n",
       "2                   Latent Dirichet Allocation (LDA)  ...                     100\n",
       "3  Uniform Manifold Approximation and Projection ...  ...                      20\n",
       "\n",
       "[4 rows x 3 columns]"
      ]
     },
     "execution_count": 69,
     "metadata": {
      "tags": []
     },
     "output_type": "execute_result"
    }
   ],
   "source": [
    "dimension_reduction_comparison = pd.DataFrame(columns = ['Method','Computing time','Number of new features'])\n",
    "dimension_reduction_comparison['Method']=['Principal component analysis (PCA)','Random projection (RP)','Latent Dirichet Allocation (LDA)','Uniform Manifold Approximation and Projection (UMAP)']\n",
    "dimension_reduction_comparison['Computing time'] = [time_pca, time_lda, time_rp, time_umap]\n",
    "dimension_reduction_comparison['Number of new features'] =[200,20,100,20]\n",
    "dimension_reduction_comparison"
   ]
  },
  {
   "cell_type": "markdown",
   "metadata": {
    "colab_type": "text",
    "id": "Up-eEXt15G4N"
   },
   "source": [
    "## V. Machine Learning model"
   ]
  },
  {
   "cell_type": "markdown",
   "metadata": {
    "colab_type": "text",
    "id": "29MC3FoH5G4O"
   },
   "source": [
    "### V.1 Logistic Regression "
   ]
  },
  {
   "cell_type": "code",
   "execution_count": null,
   "metadata": {
    "colab": {},
    "colab_type": "code",
    "id": "lBpLKqJ95G4O"
   },
   "outputs": [],
   "source": [
    "### On full data\n",
    "p = time.time()\n",
    "model_LR_full = LogisticRegression(random_state=0, solver='lbfgs', multi_class='multinomial')\n",
    "model_LR_full.fit(X_train_tfidf_full,Y_train)\n",
    "Y_predict_LR_full = model_LR_full.predict(X_test_tfidf_full)\n",
    "time_LR_full = time.time()-p"
   ]
  },
  {
   "cell_type": "code",
   "execution_count": null,
   "metadata": {
    "colab": {},
    "colab_type": "code",
    "id": "tR9PZXPE5G4P"
   },
   "outputs": [],
   "source": [
    "### On PCA data\n",
    "p = time.time()\n",
    "model_LR_pca = LogisticRegression(random_state=0, solver='lbfgs', multi_class='multinomial')\n",
    "model_LR_pca.fit(X_train_tfidf_pca,Y_train)\n",
    "Y_predict_LR_pca = model_LR_pca.predict(X_test_tfidf_pca)\n",
    "time_LR_pca = time.time()-p"
   ]
  },
  {
   "cell_type": "code",
   "execution_count": null,
   "metadata": {
    "colab": {},
    "colab_type": "code",
    "id": "FETYE1VY5G4Q"
   },
   "outputs": [],
   "source": [
    "### On LDA data\n",
    "p = time.time()\n",
    "model_LR_lda = LogisticRegression(random_state=0, solver='lbfgs', multi_class='multinomial')\n",
    "model_LR_lda.fit(X_train_tfidf_lda,Y_train)\n",
    "Y_predict_LR_lda = model_LR_lda.predict(X_test_tfidf_lda)\n",
    "time_LR_lda = time.time()-p"
   ]
  },
  {
   "cell_type": "code",
   "execution_count": null,
   "metadata": {
    "colab": {},
    "colab_type": "code",
    "id": "3io9UBGm5G4U"
   },
   "outputs": [],
   "source": [
    "### On RP data\n",
    "p = time.time()\n",
    "model_LR_rp = LogisticRegression(random_state=0, solver='lbfgs', multi_class='multinomial')\n",
    "model_LR_rp.fit(X_train_tfidf_rp,Y_train)\n",
    "Y_predict_LR_rp = model_LR_rp.predict(X_test_tfidf_rp)\n",
    "time_LR_rp = time.time()-p"
   ]
  },
  {
   "cell_type": "code",
   "execution_count": null,
   "metadata": {
    "colab": {},
    "colab_type": "code",
    "id": "VQj-Wtz85G4W"
   },
   "outputs": [],
   "source": [
    "### On UMAP data\n",
    "p = time.time()\n",
    "model_LR_umap = LogisticRegression(random_state=0, solver='lbfgs', multi_class='multinomial')\n",
    "model_LR_umap.fit(X_train_tfidf_umap,Y_train)\n",
    "Y_predict_LR_umap = model_LR_umap.predict(X_test_tfidf_umap)\n",
    "time_LR_umap = time.time()-p"
   ]
  },
  {
   "cell_type": "markdown",
   "metadata": {
    "colab_type": "text",
    "id": "K2OFEeJC5G4X"
   },
   "source": [
    "### V.2 Support Vector Machines Classifier"
   ]
  },
  {
   "cell_type": "code",
   "execution_count": null,
   "metadata": {
    "colab": {},
    "colab_type": "code",
    "id": "yGH1lxpr5G4X"
   },
   "outputs": [],
   "source": [
    "### On full data\n",
    "p = time.time()\n",
    "model_SVM_full = SVC(kernel='linear', probability = True)\n",
    "model_SVM_full.fit(X_train_tfidf_full,Y_train)\n",
    "Y_predict_SVM_full = model_SVM_full.predict(X_test_tfidf_full)\n",
    "Y_predict_proba_SVM_full = model_SVM_full.predict_proba(X_test_tfidf_full)\n",
    "time_SVM_full = time.time()-p"
   ]
  },
  {
   "cell_type": "code",
   "execution_count": null,
   "metadata": {
    "colab": {},
    "colab_type": "code",
    "id": "NlIwvv4i5G4Z"
   },
   "outputs": [],
   "source": [
    "### On PCA data\n",
    "p = time.time()\n",
    "model_SVM_pca = SVC(kernel='linear', probability = True)\n",
    "model_SVM_pca.fit(X_train_tfidf_pca,Y_train)\n",
    "Y_predict_SVM_pca = model_SVM_pca.predict(X_test_tfidf_pca)\n",
    "Y_predict_proba_SVM_pca = model_SVM_pca.predict_proba(X_test_tfidf_pca)\n",
    "time_SVM_pca = time.time()-p"
   ]
  },
  {
   "cell_type": "code",
   "execution_count": null,
   "metadata": {
    "colab": {},
    "colab_type": "code",
    "id": "Mpygiapm5G4b"
   },
   "outputs": [],
   "source": [
    "### On LDA data\n",
    "p = time.time()\n",
    "model_SVM_lda = SVC(kernel='linear')\n",
    "model_SVM_lda.fit(X_train_tfidf_lda,Y_train)\n",
    "Y_predict_SVM_lda = model_SVM_lda.predict(X_test_tfidf_lda)\n",
    "time_SVM_lda = time.time()-p"
   ]
  },
  {
   "cell_type": "code",
   "execution_count": null,
   "metadata": {
    "colab": {},
    "colab_type": "code",
    "id": "lT4LSynp5G4c"
   },
   "outputs": [],
   "source": [
    "### On RP data\n",
    "p = time.time()\n",
    "model_SVM_rp = SVC(kernel='linear')\n",
    "model_SVM_rp.fit(X_train_tfidf_rp,Y_train)\n",
    "Y_predict_SVM_rp = model_SVM_rp.predict(X_test_tfidf_rp)\n",
    "time_SVM_rp = time.time()-p"
   ]
  },
  {
   "cell_type": "code",
   "execution_count": null,
   "metadata": {
    "colab": {},
    "colab_type": "code",
    "id": "KAO0dzQ55G4d"
   },
   "outputs": [],
   "source": [
    "### On UMAP data\n",
    "p = time.time()\n",
    "model_SVM_umap = SVC(kernel='linear')\n",
    "model_SVM_umap.fit(X_train_tfidf_umap,Y_train)\n",
    "Y_predict_SVM_umap = model_SVM_umap.predict(X_test_tfidf_umap)\n",
    "time_SVM_umap = time.time()-p"
   ]
  },
  {
   "cell_type": "markdown",
   "metadata": {
    "colab_type": "text",
    "id": "8nAF_UFU5G4f"
   },
   "source": [
    "### V.3 K-Neighbors Classifier"
   ]
  },
  {
   "cell_type": "code",
   "execution_count": null,
   "metadata": {
    "colab": {},
    "colab_type": "code",
    "id": "C-KQUics5G4f"
   },
   "outputs": [],
   "source": [
    "### On full data\n",
    "p = time.time()\n",
    "model_KNN_full = KNeighborsClassifier()\n",
    "model_KNN_full.fit(X_train_tfidf_full,Y_train)\n",
    "Y_predict_KNN_full = model_KNN_full.predict(X_test_tfidf_full)\n",
    "time_KNN_full = time.time()-p"
   ]
  },
  {
   "cell_type": "code",
   "execution_count": null,
   "metadata": {
    "colab": {},
    "colab_type": "code",
    "id": "uIpMhHBU5G4g"
   },
   "outputs": [],
   "source": [
    "### On PCA data\n",
    "p = time.time()\n",
    "model_KNN_pca = KNeighborsClassifier()\n",
    "model_KNN_pca.fit(X_train_tfidf_pca,Y_train)\n",
    "Y_predict_KNN_pca = model_KNN_pca.predict(X_test_tfidf_pca)\n",
    "time_KNN_pca = time.time()-p"
   ]
  },
  {
   "cell_type": "code",
   "execution_count": null,
   "metadata": {
    "colab": {},
    "colab_type": "code",
    "id": "lkEg7ILK5G4i"
   },
   "outputs": [],
   "source": [
    "### On LDA data\n",
    "p = time.time()\n",
    "model_KNN_lda = KNeighborsClassifier()\n",
    "model_KNN_lda.fit(X_train_tfidf_lda,Y_train)\n",
    "Y_predict_KNN_lda = model_KNN_lda.predict(X_test_tfidf_lda)\n",
    "time_KNN_lda = time.time()-p"
   ]
  },
  {
   "cell_type": "code",
   "execution_count": null,
   "metadata": {
    "colab": {},
    "colab_type": "code",
    "id": "IrVPsNjv5G4j"
   },
   "outputs": [],
   "source": [
    "### On RP data\n",
    "p = time.time()\n",
    "model_KNN_rp = KNeighborsClassifier()\n",
    "model_KNN_rp.fit(X_train_tfidf_rp,Y_train)\n",
    "Y_predict_KNN_rp = model_KNN_rp.predict(X_test_tfidf_rp)\n",
    "time_KNN_rp = time.time()-p"
   ]
  },
  {
   "cell_type": "code",
   "execution_count": null,
   "metadata": {
    "colab": {},
    "colab_type": "code",
    "id": "FW9tEfWO5G4l"
   },
   "outputs": [],
   "source": [
    "### On UMAP data\n",
    "p = time.time()\n",
    "model_KNN_umap = KNeighborsClassifier()\n",
    "model_KNN_umap.fit(X_train_tfidf_umap,Y_train)\n",
    "Y_predict_KNN_umap = model_KNN_umap.predict(X_test_tfidf_umap)\n",
    "time_KNN_umap = time.time()-p"
   ]
  },
  {
   "cell_type": "markdown",
   "metadata": {
    "colab_type": "text",
    "id": "sNy565315G4n"
   },
   "source": [
    "### V.4 Artificial neural network"
   ]
  },
  {
   "cell_type": "code",
   "execution_count": null,
   "metadata": {
    "colab": {},
    "colab_type": "code",
    "id": "qaH7nEhb5G4n"
   },
   "outputs": [],
   "source": [
    "Y_train_NN = (Y_train=='good')\n",
    "Y_test_NN = (Y_test=='good')"
   ]
  },
  {
   "cell_type": "code",
   "execution_count": 86,
   "metadata": {
    "colab": {
     "base_uri": "https://localhost:8080/",
     "height": 793
    },
    "colab_type": "code",
    "id": "BQOTPpEQ5G4q",
    "outputId": "b38ae3ce-86fb-4e6d-b347-41d5eb18f992"
   },
   "outputs": [
    {
     "name": "stdout",
     "output_type": "stream",
     "text": [
      "WARNING:tensorflow:From /usr/local/lib/python3.6/dist-packages/keras/backend/tensorflow_backend.py:66: The name tf.get_default_graph is deprecated. Please use tf.compat.v1.get_default_graph instead.\n",
      "\n",
      "WARNING:tensorflow:From /usr/local/lib/python3.6/dist-packages/keras/backend/tensorflow_backend.py:541: The name tf.placeholder is deprecated. Please use tf.compat.v1.placeholder instead.\n",
      "\n",
      "WARNING:tensorflow:From /usr/local/lib/python3.6/dist-packages/keras/backend/tensorflow_backend.py:4432: The name tf.random_uniform is deprecated. Please use tf.random.uniform instead.\n",
      "\n",
      "WARNING:tensorflow:From /usr/local/lib/python3.6/dist-packages/keras/backend/tensorflow_backend.py:148: The name tf.placeholder_with_default is deprecated. Please use tf.compat.v1.placeholder_with_default instead.\n",
      "\n",
      "WARNING:tensorflow:From /usr/local/lib/python3.6/dist-packages/keras/backend/tensorflow_backend.py:3733: calling dropout (from tensorflow.python.ops.nn_ops) with keep_prob is deprecated and will be removed in a future version.\n",
      "Instructions for updating:\n",
      "Please use `rate` instead of `keep_prob`. Rate should be set to `rate = 1 - keep_prob`.\n",
      "WARNING:tensorflow:From /usr/local/lib/python3.6/dist-packages/keras/optimizers.py:793: The name tf.train.Optimizer is deprecated. Please use tf.compat.v1.train.Optimizer instead.\n",
      "\n",
      "WARNING:tensorflow:From /usr/local/lib/python3.6/dist-packages/keras/backend/tensorflow_backend.py:3657: The name tf.log is deprecated. Please use tf.math.log instead.\n",
      "\n",
      "WARNING:tensorflow:From /usr/local/lib/python3.6/dist-packages/tensorflow_core/python/ops/nn_impl.py:183: where (from tensorflow.python.ops.array_ops) is deprecated and will be removed in a future version.\n",
      "Instructions for updating:\n",
      "Use tf.where in 2.0, which has the same broadcast rule as np.where\n",
      "WARNING:tensorflow:From /usr/local/lib/python3.6/dist-packages/keras/backend/tensorflow_backend.py:1033: The name tf.assign_add is deprecated. Please use tf.compat.v1.assign_add instead.\n",
      "\n",
      "WARNING:tensorflow:From /usr/local/lib/python3.6/dist-packages/keras/backend/tensorflow_backend.py:1020: The name tf.assign is deprecated. Please use tf.compat.v1.assign instead.\n",
      "\n",
      "WARNING:tensorflow:From /usr/local/lib/python3.6/dist-packages/keras/backend/tensorflow_backend.py:3005: The name tf.Session is deprecated. Please use tf.compat.v1.Session instead.\n",
      "\n",
      "Train on 7000 samples, validate on 3000 samples\n",
      "Epoch 1/5\n",
      "WARNING:tensorflow:From /usr/local/lib/python3.6/dist-packages/keras/backend/tensorflow_backend.py:190: The name tf.get_default_session is deprecated. Please use tf.compat.v1.get_default_session instead.\n",
      "\n",
      "WARNING:tensorflow:From /usr/local/lib/python3.6/dist-packages/keras/backend/tensorflow_backend.py:197: The name tf.ConfigProto is deprecated. Please use tf.compat.v1.ConfigProto instead.\n",
      "\n",
      "WARNING:tensorflow:From /usr/local/lib/python3.6/dist-packages/keras/backend/tensorflow_backend.py:207: The name tf.global_variables is deprecated. Please use tf.compat.v1.global_variables instead.\n",
      "\n",
      "WARNING:tensorflow:From /usr/local/lib/python3.6/dist-packages/keras/backend/tensorflow_backend.py:216: The name tf.is_variable_initialized is deprecated. Please use tf.compat.v1.is_variable_initialized instead.\n",
      "\n",
      "WARNING:tensorflow:From /usr/local/lib/python3.6/dist-packages/keras/backend/tensorflow_backend.py:223: The name tf.variables_initializer is deprecated. Please use tf.compat.v1.variables_initializer instead.\n",
      "\n",
      "7000/7000 [==============================] - 10s 1ms/step - loss: 0.5305 - acc: 0.7267 - val_loss: 0.4011 - val_acc: 0.8187\n",
      "Epoch 2/5\n",
      "7000/7000 [==============================] - 0s 52us/step - loss: 0.3206 - acc: 0.8663 - val_loss: 0.3762 - val_acc: 0.8303\n",
      "Epoch 3/5\n",
      "7000/7000 [==============================] - 0s 50us/step - loss: 0.2667 - acc: 0.8970 - val_loss: 0.3682 - val_acc: 0.8310\n",
      "Epoch 4/5\n",
      "7000/7000 [==============================] - 0s 51us/step - loss: 0.2324 - acc: 0.9116 - val_loss: 0.3700 - val_acc: 0.8307\n",
      "Epoch 5/5\n",
      "7000/7000 [==============================] - 0s 50us/step - loss: 0.2112 - acc: 0.9250 - val_loss: 0.3735 - val_acc: 0.8287\n"
     ]
    }
   ],
   "source": [
    "### On full data\n",
    "p = time.time()\n",
    "model_NN = Sequential()\n",
    "model_NN.add(Dense(128, activation = 'relu',input_shape=(X_train_tfidf_full.shape[1],)))\n",
    "model_NN.add(BatchNormalization())\n",
    "model_NN.add(Dropout(0.2)) # to avoid overfitting\n",
    "model_NN.add(Dense(1, activation = 'sigmoid'))\n",
    "model_NN.compile(loss = 'binary_crossentropy', optimizer = Adam(lr = 0.001, decay = 0.01), metrics = ['accuracy'])\n",
    "model_NN.fit(X_train_tfidf_full.A,Y_train_NN, validation_data=(X_test_tfidf_full.A, Y_test_NN), epochs = 5, batch_size = 128)\n",
    "Y_predict_NN_full = np.where(model_NN.predict(X_test_tfidf_full.A)<0.5,'bad', 'good')\n",
    "time_NN_full = time.time()"
   ]
  },
  {
   "cell_type": "code",
   "execution_count": 87,
   "metadata": {
    "colab": {
     "base_uri": "https://localhost:8080/",
     "height": 202
    },
    "colab_type": "code",
    "id": "EqttQ_Di5G4s",
    "outputId": "6d0e3e53-c5bf-4924-bad9-3edc16886e4e"
   },
   "outputs": [
    {
     "name": "stdout",
     "output_type": "stream",
     "text": [
      "Train on 7000 samples, validate on 3000 samples\n",
      "Epoch 1/5\n",
      "7000/7000 [==============================] - 1s 107us/step - loss: 0.6602 - acc: 0.6369 - val_loss: 0.5034 - val_acc: 0.7677\n",
      "Epoch 2/5\n",
      "7000/7000 [==============================] - 0s 44us/step - loss: 0.4777 - acc: 0.7734 - val_loss: 0.4461 - val_acc: 0.7997\n",
      "Epoch 3/5\n",
      "7000/7000 [==============================] - 0s 48us/step - loss: 0.4291 - acc: 0.8093 - val_loss: 0.4234 - val_acc: 0.8110\n",
      "Epoch 4/5\n",
      "7000/7000 [==============================] - 0s 46us/step - loss: 0.4004 - acc: 0.8226 - val_loss: 0.4111 - val_acc: 0.8150\n",
      "Epoch 5/5\n",
      "7000/7000 [==============================] - 0s 49us/step - loss: 0.3835 - acc: 0.8287 - val_loss: 0.4067 - val_acc: 0.8167\n"
     ]
    }
   ],
   "source": [
    "### On PCA data\n",
    "p = time.time()\n",
    "model_NN = Sequential()\n",
    "model_NN.add(Dense(128, activation = 'relu',input_shape=(X_train_tfidf_pca.shape[1],)))\n",
    "model_NN.add(BatchNormalization())\n",
    "model_NN.add(Dropout(0.2)) # to avoid overfitting\n",
    "model_NN.add(Dense(1, activation = 'sigmoid'))\n",
    "model_NN.compile(loss = 'binary_crossentropy', optimizer = Adam(lr = 0.001, decay = 0.01), metrics = ['accuracy'])\n",
    "model_NN.fit(X_train_tfidf_pca,Y_train_NN, validation_data=(X_test_tfidf_pca, Y_test_NN), epochs = 5, batch_size = 128)\n",
    "Y_predict_NN_pca = np.where(model_NN.predict(X_test_tfidf_pca)<0.5,'bad', 'good')\n",
    "time_NN_pca = time.time()"
   ]
  },
  {
   "cell_type": "code",
   "execution_count": 88,
   "metadata": {
    "colab": {
     "base_uri": "https://localhost:8080/",
     "height": 202
    },
    "colab_type": "code",
    "id": "PrllkPbF5G4t",
    "outputId": "40397d43-eb47-4f99-c8ad-0a0aaea3c3f1"
   },
   "outputs": [
    {
     "name": "stdout",
     "output_type": "stream",
     "text": [
      "Train on 7000 samples, validate on 3000 samples\n",
      "Epoch 1/5\n",
      "7000/7000 [==============================] - 1s 113us/step - loss: 0.7648 - acc: 0.5137 - val_loss: 0.6864 - val_acc: 0.5557\n",
      "Epoch 2/5\n",
      "7000/7000 [==============================] - 0s 44us/step - loss: 0.7164 - acc: 0.5310 - val_loss: 0.6853 - val_acc: 0.5527\n",
      "Epoch 3/5\n",
      "7000/7000 [==============================] - 0s 41us/step - loss: 0.7137 - acc: 0.5376 - val_loss: 0.6845 - val_acc: 0.5567\n",
      "Epoch 4/5\n",
      "7000/7000 [==============================] - 0s 42us/step - loss: 0.7153 - acc: 0.5367 - val_loss: 0.6857 - val_acc: 0.5547\n",
      "Epoch 5/5\n",
      "7000/7000 [==============================] - 0s 40us/step - loss: 0.7071 - acc: 0.5483 - val_loss: 0.6847 - val_acc: 0.5620\n"
     ]
    }
   ],
   "source": [
    "### On LDA data\n",
    "p = time.time()\n",
    "model_NN = Sequential()\n",
    "model_NN.add(Dense(128, activation = 'relu',input_shape=(X_train_tfidf_lda.shape[1],)))\n",
    "model_NN.add(BatchNormalization())\n",
    "model_NN.add(Dropout(0.2)) # to avoid overfitting\n",
    "model_NN.add(Dense(1, activation = 'sigmoid'))\n",
    "model_NN.compile(loss = 'binary_crossentropy', optimizer = Adam(lr = 0.001, decay = 0.01), metrics = ['accuracy'])\n",
    "model_NN.fit(X_train_tfidf_lda.A,Y_train_NN, validation_data=(X_test_tfidf_lda.A, Y_test_NN), epochs = 5, batch_size = 128)\n",
    "Y_predict_NN_lda = np.where(model_NN.predict(X_test_tfidf_lda.A)<0.5,'bad', 'good')\n",
    "time_NN_lda = time.time()"
   ]
  },
  {
   "cell_type": "code",
   "execution_count": 89,
   "metadata": {
    "colab": {
     "base_uri": "https://localhost:8080/",
     "height": 202
    },
    "colab_type": "code",
    "id": "dfcV5Icm5G4u",
    "outputId": "7a48bc2c-77f0-4fd0-fcf0-2c86feb82bbf"
   },
   "outputs": [
    {
     "name": "stdout",
     "output_type": "stream",
     "text": [
      "Train on 7000 samples, validate on 3000 samples\n",
      "Epoch 1/5\n",
      "7000/7000 [==============================] - 1s 120us/step - loss: 0.6990 - acc: 0.5947 - val_loss: 0.6388 - val_acc: 0.6407\n",
      "Epoch 2/5\n",
      "7000/7000 [==============================] - 0s 45us/step - loss: 0.6336 - acc: 0.6484 - val_loss: 0.6288 - val_acc: 0.6393\n",
      "Epoch 3/5\n",
      "7000/7000 [==============================] - 0s 45us/step - loss: 0.6143 - acc: 0.6684 - val_loss: 0.6226 - val_acc: 0.6483\n",
      "Epoch 4/5\n",
      "7000/7000 [==============================] - 0s 42us/step - loss: 0.6006 - acc: 0.6724 - val_loss: 0.6199 - val_acc: 0.6490\n",
      "Epoch 5/5\n",
      "7000/7000 [==============================] - 0s 46us/step - loss: 0.5923 - acc: 0.6800 - val_loss: 0.6192 - val_acc: 0.6473\n"
     ]
    }
   ],
   "source": [
    "### On RP data\n",
    "p = time.time()\n",
    "model_NN = Sequential()\n",
    "model_NN.add(Dense(128, activation = 'relu',input_shape=(X_train_tfidf_rp.shape[1],)))\n",
    "model_NN.add(BatchNormalization())\n",
    "model_NN.add(Dropout(0.2)) # to avoid overfitting\n",
    "model_NN.add(Dense(1, activation = 'sigmoid'))\n",
    "model_NN.compile(loss = 'binary_crossentropy', optimizer = Adam(lr = 0.001, decay = 0.01), metrics = ['accuracy'])\n",
    "model_NN.fit(X_train_tfidf_rp.A,Y_train_NN, validation_data=(X_test_tfidf_rp.A, Y_test_NN), epochs = 5, batch_size = 128)\n",
    "Y_predict_NN_rp = np.where(model_NN.predict(X_test_tfidf_rp.A)<0.5,'bad', 'good')\n",
    "time_NN_rp = time.time()"
   ]
  },
  {
   "cell_type": "code",
   "execution_count": 90,
   "metadata": {
    "colab": {
     "base_uri": "https://localhost:8080/",
     "height": 202
    },
    "colab_type": "code",
    "id": "vZbPRgSj5G4v",
    "outputId": "9da2fe59-7a89-40ec-d955-45a374770650"
   },
   "outputs": [
    {
     "name": "stdout",
     "output_type": "stream",
     "text": [
      "Train on 7000 samples, validate on 3000 samples\n",
      "Epoch 1/5\n",
      "7000/7000 [==============================] - 1s 130us/step - loss: 0.7406 - acc: 0.5547 - val_loss: 0.6679 - val_acc: 0.6203\n",
      "Epoch 2/5\n",
      "7000/7000 [==============================] - 0s 43us/step - loss: 0.6741 - acc: 0.6049 - val_loss: 0.6482 - val_acc: 0.6343\n",
      "Epoch 3/5\n",
      "7000/7000 [==============================] - 0s 44us/step - loss: 0.6678 - acc: 0.6180 - val_loss: 0.6472 - val_acc: 0.6397\n",
      "Epoch 4/5\n",
      "7000/7000 [==============================] - 0s 46us/step - loss: 0.6622 - acc: 0.6221 - val_loss: 0.6475 - val_acc: 0.6363\n",
      "Epoch 5/5\n",
      "7000/7000 [==============================] - 0s 42us/step - loss: 0.6606 - acc: 0.6239 - val_loss: 0.6449 - val_acc: 0.6380\n"
     ]
    }
   ],
   "source": [
    "### On UMAP data\n",
    "p = time.time()\n",
    "model_NN = Sequential()\n",
    "model_NN.add(Dense(128, activation = 'relu',input_shape=(X_train_tfidf_umap.shape[1],)))\n",
    "model_NN.add(BatchNormalization())\n",
    "model_NN.add(Dropout(0.2)) # to avoid overfitting\n",
    "model_NN.add(Dense(1, activation = 'sigmoid'))\n",
    "model_NN.compile(loss = 'binary_crossentropy', optimizer = Adam(lr = 0.001, decay = 0.01), metrics = ['accuracy'])\n",
    "model_NN.fit(X_train_tfidf_umap,Y_train_NN, validation_data=(X_test_tfidf_umap, Y_test_NN), epochs = 5, batch_size = 128)\n",
    "Y_predict_NN_umap = np.where(model_NN.predict(X_test_tfidf_umap)<0.5,'bad', 'good')\n",
    "time_NN_umap = time.time()"
   ]
  },
  {
   "cell_type": "markdown",
   "metadata": {
    "colab_type": "text",
    "id": "sjmUVa_K5G4x"
   },
   "source": [
    "### VI. Comparaison des Resultats\n"
   ]
  },
  {
   "cell_type": "markdown",
   "metadata": {
    "colab_type": "text",
    "id": "4wmIwrhf5G4x"
   },
   "source": [
    "Nous allons comparer les temps de calculs des différentes méthodes et sélectionner celle qui nous donnera un meilleur rapport temps d'analyse et meilleur accuracy."
   ]
  },
  {
   "cell_type": "code",
   "execution_count": 91,
   "metadata": {
    "colab": {
     "base_uri": "https://localhost:8080/",
     "height": 639
    },
    "colab_type": "code",
    "id": "pK68V15q5G4y",
    "outputId": "3ec8c2ca-daeb-433b-a0c3-1c313e8da4a3"
   },
   "outputs": [
    {
     "data": {
      "text/html": [
       "<div>\n",
       "<style scoped>\n",
       "    .dataframe tbody tr th:only-of-type {\n",
       "        vertical-align: middle;\n",
       "    }\n",
       "\n",
       "    .dataframe tbody tr th {\n",
       "        vertical-align: top;\n",
       "    }\n",
       "\n",
       "    .dataframe thead th {\n",
       "        text-align: right;\n",
       "    }\n",
       "</style>\n",
       "<table border=\"1\" class=\"dataframe\">\n",
       "  <thead>\n",
       "    <tr style=\"text-align: right;\">\n",
       "      <th></th>\n",
       "      <th>Machine Learning model</th>\n",
       "      <th>Reduction method</th>\n",
       "      <th>Accuracy score</th>\n",
       "      <th>Computing time</th>\n",
       "      <th>Computing time added dimension reduction time</th>\n",
       "      <th>Estimated computing time on all training set</th>\n",
       "    </tr>\n",
       "  </thead>\n",
       "  <tbody>\n",
       "    <tr>\n",
       "      <th>0</th>\n",
       "      <td>Logistic Regression</td>\n",
       "      <td>Full matrix</td>\n",
       "      <td>0.844667</td>\n",
       "      <td>3.102412e-01</td>\n",
       "      <td>3.102412e-01</td>\n",
       "      <td>1.116868e+02</td>\n",
       "    </tr>\n",
       "    <tr>\n",
       "      <th>1</th>\n",
       "      <td>Logistic Regression</td>\n",
       "      <td>PCA</td>\n",
       "      <td>0.835333</td>\n",
       "      <td>4.248800e-01</td>\n",
       "      <td>1.151567e+01</td>\n",
       "      <td>4.145642e+03</td>\n",
       "    </tr>\n",
       "    <tr>\n",
       "      <th>2</th>\n",
       "      <td>Logistic Regression</td>\n",
       "      <td>LDA</td>\n",
       "      <td>0.563667</td>\n",
       "      <td>2.300093e-01</td>\n",
       "      <td>1.428017e+01</td>\n",
       "      <td>5.140860e+03</td>\n",
       "    </tr>\n",
       "    <tr>\n",
       "      <th>3</th>\n",
       "      <td>Logistic Regression</td>\n",
       "      <td>RP</td>\n",
       "      <td>0.658333</td>\n",
       "      <td>4.824855e-01</td>\n",
       "      <td>7.258103e+01</td>\n",
       "      <td>2.612917e+04</td>\n",
       "    </tr>\n",
       "    <tr>\n",
       "      <th>4</th>\n",
       "      <td>Logistic Regression</td>\n",
       "      <td>UMAP</td>\n",
       "      <td>0.639667</td>\n",
       "      <td>3.308606e-01</td>\n",
       "      <td>6.350271e+01</td>\n",
       "      <td>2.286097e+04</td>\n",
       "    </tr>\n",
       "    <tr>\n",
       "      <th>5</th>\n",
       "      <td>Support vector machine</td>\n",
       "      <td>Full matrix</td>\n",
       "      <td>0.840000</td>\n",
       "      <td>4.528244e+01</td>\n",
       "      <td>4.528244e+01</td>\n",
       "      <td>1.630168e+04</td>\n",
       "    </tr>\n",
       "    <tr>\n",
       "      <th>6</th>\n",
       "      <td>Support vector machine</td>\n",
       "      <td>PCA</td>\n",
       "      <td>0.831000</td>\n",
       "      <td>4.552670e+01</td>\n",
       "      <td>5.661749e+01</td>\n",
       "      <td>2.038230e+04</td>\n",
       "    </tr>\n",
       "    <tr>\n",
       "      <th>7</th>\n",
       "      <td>Support vector machine</td>\n",
       "      <td>LDA</td>\n",
       "      <td>0.559000</td>\n",
       "      <td>4.412881e+00</td>\n",
       "      <td>1.846304e+01</td>\n",
       "      <td>6.646694e+03</td>\n",
       "    </tr>\n",
       "    <tr>\n",
       "      <th>8</th>\n",
       "      <td>Support vector machine</td>\n",
       "      <td>RP</td>\n",
       "      <td>0.664000</td>\n",
       "      <td>1.268456e+01</td>\n",
       "      <td>8.478310e+01</td>\n",
       "      <td>3.052192e+04</td>\n",
       "    </tr>\n",
       "    <tr>\n",
       "      <th>9</th>\n",
       "      <td>Support vector machine</td>\n",
       "      <td>UMAP</td>\n",
       "      <td>0.640667</td>\n",
       "      <td>3.127366e+00</td>\n",
       "      <td>6.629921e+01</td>\n",
       "      <td>2.386772e+04</td>\n",
       "    </tr>\n",
       "    <tr>\n",
       "      <th>10</th>\n",
       "      <td>K-nearest neighbors</td>\n",
       "      <td>Full matrix</td>\n",
       "      <td>0.642667</td>\n",
       "      <td>1.183374e+00</td>\n",
       "      <td>1.183374e+00</td>\n",
       "      <td>4.260146e+02</td>\n",
       "    </tr>\n",
       "    <tr>\n",
       "      <th>11</th>\n",
       "      <td>K-nearest neighbors</td>\n",
       "      <td>PCA</td>\n",
       "      <td>0.641000</td>\n",
       "      <td>5.383170e+00</td>\n",
       "      <td>1.647396e+01</td>\n",
       "      <td>5.930626e+03</td>\n",
       "    </tr>\n",
       "    <tr>\n",
       "      <th>12</th>\n",
       "      <td>K-nearest neighbors</td>\n",
       "      <td>LDA</td>\n",
       "      <td>0.515333</td>\n",
       "      <td>1.068635e+00</td>\n",
       "      <td>1.511879e+01</td>\n",
       "      <td>5.442765e+03</td>\n",
       "    </tr>\n",
       "    <tr>\n",
       "      <th>13</th>\n",
       "      <td>K-nearest neighbors</td>\n",
       "      <td>RP</td>\n",
       "      <td>0.600333</td>\n",
       "      <td>5.987326e+00</td>\n",
       "      <td>7.808587e+01</td>\n",
       "      <td>2.811091e+04</td>\n",
       "    </tr>\n",
       "    <tr>\n",
       "      <th>14</th>\n",
       "      <td>K-nearest neighbors</td>\n",
       "      <td>UMAP</td>\n",
       "      <td>0.610667</td>\n",
       "      <td>2.199585e-01</td>\n",
       "      <td>6.339180e+01</td>\n",
       "      <td>2.282105e+04</td>\n",
       "    </tr>\n",
       "    <tr>\n",
       "      <th>15</th>\n",
       "      <td>Neural network</td>\n",
       "      <td>Full matrix</td>\n",
       "      <td>0.828667</td>\n",
       "      <td>1.579635e+09</td>\n",
       "      <td>1.579635e+09</td>\n",
       "      <td>5.686686e+11</td>\n",
       "    </tr>\n",
       "    <tr>\n",
       "      <th>16</th>\n",
       "      <td>Neural network</td>\n",
       "      <td>PCA</td>\n",
       "      <td>0.816667</td>\n",
       "      <td>1.579635e+09</td>\n",
       "      <td>1.579635e+09</td>\n",
       "      <td>5.686686e+11</td>\n",
       "    </tr>\n",
       "    <tr>\n",
       "      <th>17</th>\n",
       "      <td>Neural network</td>\n",
       "      <td>LDA</td>\n",
       "      <td>0.562000</td>\n",
       "      <td>1.579635e+09</td>\n",
       "      <td>1.579635e+09</td>\n",
       "      <td>5.686686e+11</td>\n",
       "    </tr>\n",
       "    <tr>\n",
       "      <th>18</th>\n",
       "      <td>Neural network</td>\n",
       "      <td>RP</td>\n",
       "      <td>0.647333</td>\n",
       "      <td>1.579635e+09</td>\n",
       "      <td>1.579635e+09</td>\n",
       "      <td>5.686686e+11</td>\n",
       "    </tr>\n",
       "    <tr>\n",
       "      <th>19</th>\n",
       "      <td>Neural network</td>\n",
       "      <td>UMAP</td>\n",
       "      <td>0.638000</td>\n",
       "      <td>1.579635e+09</td>\n",
       "      <td>1.579635e+09</td>\n",
       "      <td>5.686686e+11</td>\n",
       "    </tr>\n",
       "  </tbody>\n",
       "</table>\n",
       "</div>"
      ],
      "text/plain": [
       "    Machine Learning model  ... Estimated computing time on all training set\n",
       "0      Logistic Regression  ...                                 1.116868e+02\n",
       "1      Logistic Regression  ...                                 4.145642e+03\n",
       "2      Logistic Regression  ...                                 5.140860e+03\n",
       "3      Logistic Regression  ...                                 2.612917e+04\n",
       "4      Logistic Regression  ...                                 2.286097e+04\n",
       "5   Support vector machine  ...                                 1.630168e+04\n",
       "6   Support vector machine  ...                                 2.038230e+04\n",
       "7   Support vector machine  ...                                 6.646694e+03\n",
       "8   Support vector machine  ...                                 3.052192e+04\n",
       "9   Support vector machine  ...                                 2.386772e+04\n",
       "10     K-nearest neighbors  ...                                 4.260146e+02\n",
       "11     K-nearest neighbors  ...                                 5.930626e+03\n",
       "12     K-nearest neighbors  ...                                 5.442765e+03\n",
       "13     K-nearest neighbors  ...                                 2.811091e+04\n",
       "14     K-nearest neighbors  ...                                 2.282105e+04\n",
       "15          Neural network  ...                                 5.686686e+11\n",
       "16          Neural network  ...                                 5.686686e+11\n",
       "17          Neural network  ...                                 5.686686e+11\n",
       "18          Neural network  ...                                 5.686686e+11\n",
       "19          Neural network  ...                                 5.686686e+11\n",
       "\n",
       "[20 rows x 6 columns]"
      ]
     },
     "execution_count": 91,
     "metadata": {
      "tags": []
     },
     "output_type": "execute_result"
    }
   ],
   "source": [
    "def accuracy_score_vector(x) :\n",
    "    return [accuracy_score(Y_test, predictor) for predictor in x]\n",
    "\n",
    "perfomance_comparison =pd.DataFrame(columns = ['Machine Learning model','Reduction method','Accuracy score','Computing time'])\n",
    "perfomance_comparison['Machine Learning model'] = ['Logistic Regression']*5 + ['Support vector machine']*5+['K-nearest neighbors']*5+['Neural network']*5\n",
    "perfomance_comparison['Reduction method'] = ['Full matrix', 'PCA', 'LDA', 'RP', 'UMAP']*4\n",
    "perfomance_comparison['Accuracy score'] = accuracy_score_vector([\n",
    "    Y_predict_LR_full,Y_predict_LR_pca, Y_predict_LR_lda, Y_predict_LR_rp, Y_predict_LR_umap,\n",
    "    Y_predict_SVM_full,Y_predict_SVM_pca, Y_predict_SVM_lda, Y_predict_SVM_rp, Y_predict_SVM_umap,\n",
    "    Y_predict_KNN_full,Y_predict_KNN_pca, Y_predict_KNN_lda, Y_predict_KNN_rp, Y_predict_KNN_umap,\n",
    "    Y_predict_NN_full,Y_predict_NN_pca, Y_predict_NN_lda, Y_predict_NN_rp, Y_predict_NN_umap])\n",
    "perfomance_comparison['Computing time'] = [time_LR_full, time_LR_pca, time_LR_lda, time_LR_rp, time_LR_umap,\n",
    "                                           time_SVM_full, time_SVM_pca, time_SVM_lda, time_SVM_rp, time_SVM_umap,\n",
    "                                           time_KNN_full, time_KNN_pca, time_KNN_lda, time_KNN_rp, time_KNN_umap,\n",
    "                                           time_NN_full, time_NN_pca, time_NN_lda, time_NN_rp, time_NN_umap]\n",
    "perfomance_comparison['Computing time added dimension reduction time'] = perfomance_comparison['Computing time'] + np.array([0,time_pca, time_lda, time_rp, time_umap]*4)\n",
    "perfomance_comparison['Estimated computing time on all training set'] = perfomance_comparison['Computing time added dimension reduction time']/n_obs*3600000\n",
    "perfomance_comparison\n"
   ]
  },
  {
   "cell_type": "markdown",
   "metadata": {
    "colab_type": "text",
    "id": "M87CdMyj5G4z"
   },
   "source": [
    "Apres analyse du tableau ci dessus,  nous sélectionnons deux model avec un fort accuracy qui sont :\n",
    "* La logistique regression\n",
    "* Le SVM<br>\n",
    "\n",
    "ces deux modèles ont été implémentés sur  la full matrice et la matrice réduite par PCA. Afin de déterminer lequel des deux modèle on choisira finalement  on observera la matrice de confusion et la courbe ROC"
   ]
  },
  {
   "cell_type": "markdown",
   "metadata": {
    "colab_type": "text",
    "id": "fhNrvZRM5G40"
   },
   "source": [
    "#### VI.1 Resultat de Logistic Regression\n",
    "\n",
    "#### VI.1.1 Tout le dictionnaire\n"
   ]
  },
  {
   "cell_type": "code",
   "execution_count": 92,
   "metadata": {
    "colab": {
     "base_uri": "https://localhost:8080/",
     "height": 168
    },
    "colab_type": "code",
    "id": "nrctytLM5G40",
    "outputId": "ad2c57fa-bdd6-4983-dd98-baa9ae0380f8"
   },
   "outputs": [
    {
     "name": "stdout",
     "output_type": "stream",
     "text": [
      "              precision    recall  f1-score   support\n",
      "\n",
      "         bad       0.84      0.85      0.85      1501\n",
      "        good       0.85      0.84      0.84      1499\n",
      "\n",
      "    accuracy                           0.84      3000\n",
      "   macro avg       0.84      0.84      0.84      3000\n",
      "weighted avg       0.84      0.84      0.84      3000\n",
      "\n"
     ]
    }
   ],
   "source": [
    "print(classification_report(Y_test, Y_predict_LR_full))"
   ]
  },
  {
   "cell_type": "code",
   "execution_count": 93,
   "metadata": {
    "colab": {
     "base_uri": "https://localhost:8080/",
     "height": 295
    },
    "colab_type": "code",
    "id": "_7WBlw9K5G42",
    "outputId": "c84f915e-8087-47e8-8161-f77e6c366ae0"
   },
   "outputs": [
    {
     "data": {
      "image/png": "[encoded data removed]",
      "text/plain": [
       "<Figure size 432x288 with 2 Axes>"
      ]
     },
     "metadata": {
      "tags": []
     },
     "output_type": "display_data"
    }
   ],
   "source": [
    "cm = confusion_matrix(Y_test,Y_predict_LR_full)\n",
    "cm = cm.astype('float')/cm.sum(axis=1)[:, np.newaxis]\n",
    "#Visualization of the Confusion matrix\n",
    "ax=plt.subplot(title='Confusion matrix of the Logistic Model on full data set');\n",
    "sns.heatmap(cm,annot=True, fmt='.4f', cmap='Blues', xticklabels=['good', 'bad'], yticklabels=['good', 'bad'])\n",
    "ax.set_xlabel('LR Prediction');\n",
    "ax.set_ylabel('True labels');"
   ]
  },
  {
   "cell_type": "code",
   "execution_count": 94,
   "metadata": {
    "colab": {
     "base_uri": "https://localhost:8080/",
     "height": 295
    },
    "colab_type": "code",
    "id": "NhZqRsZz5G45",
    "outputId": "c3f0e3c1-5d2f-4179-c2eb-f38f79d32b02"
   },
   "outputs": [
    {
     "data": {
      "image/png": "[encoded data removed]",
      "text/plain": [
       "<Figure size 432x288 with 1 Axes>"
      ]
     },
     "metadata": {
      "tags": []
     },
     "output_type": "display_data"
    }
   ],
   "source": [
    "Y_predict_proba_LR_full = model_LR_full.predict_proba(X_test_tfidf_full)\n",
    "skplt.metrics.plot_roc_curve(Y_test, Y_predict_proba_LR_full)\n",
    "plt.show()"
   ]
  },
  {
   "cell_type": "markdown",
   "metadata": {
    "colab_type": "text",
    "id": "2R44w35S5G48"
   },
   "source": [
    "#### VI.1.2 PCA data set\n"
   ]
  },
  {
   "cell_type": "code",
   "execution_count": 95,
   "metadata": {
    "colab": {
     "base_uri": "https://localhost:8080/",
     "height": 168
    },
    "colab_type": "code",
    "id": "C9oSHcgJ5G49",
    "outputId": "dfa233a9-642f-42ca-b175-e1bb20dca39f"
   },
   "outputs": [
    {
     "name": "stdout",
     "output_type": "stream",
     "text": [
      "              precision    recall  f1-score   support\n",
      "\n",
      "         bad       0.83      0.84      0.84      1501\n",
      "        good       0.84      0.83      0.83      1499\n",
      "\n",
      "    accuracy                           0.84      3000\n",
      "   macro avg       0.84      0.84      0.84      3000\n",
      "weighted avg       0.84      0.84      0.84      3000\n",
      "\n"
     ]
    }
   ],
   "source": [
    "print(classification_report(Y_test, Y_predict_LR_pca))"
   ]
  },
  {
   "cell_type": "code",
   "execution_count": 96,
   "metadata": {
    "colab": {
     "base_uri": "https://localhost:8080/",
     "height": 295
    },
    "colab_type": "code",
    "id": "dPoxOSb15G4-",
    "outputId": "26c9432e-2041-46dd-dd94-a17edf21f0e9"
   },
   "outputs": [
    {
     "data": {
      "image/png": "[encoded data removed]",
      "text/plain": [
       "<Figure size 432x288 with 2 Axes>"
      ]
     },
     "metadata": {
      "tags": []
     },
     "output_type": "display_data"
    }
   ],
   "source": [
    "cm = confusion_matrix(Y_test,Y_predict_LR_pca)\n",
    "cm = cm.astype('float')/cm.sum(axis=1)[:, np.newaxis]\n",
    "#Visualization of the Confusion matrix\n",
    "ax=plt.subplot(title='Confusion matrix of the Logistic Model on PCA data set');\n",
    "sns.heatmap(cm,annot=True, fmt='.4f', cmap='Blues', xticklabels=['good', 'bad'], yticklabels=['good', 'bad'])\n",
    "ax.set_xlabel('LR Prediction');\n",
    "ax.set_ylabel('True labels');"
   ]
  },
  {
   "cell_type": "code",
   "execution_count": 97,
   "metadata": {
    "colab": {
     "base_uri": "https://localhost:8080/",
     "height": 295
    },
    "colab_type": "code",
    "id": "xt44uPzu5G4_",
    "outputId": "6a8c2d87-8f3e-48a2-9f25-71d1404370f6"
   },
   "outputs": [
    {
     "data": {
      "image/png": "[encoded data removed]",
      "text/plain": [
       "<Figure size 432x288 with 1 Axes>"
      ]
     },
     "metadata": {
      "tags": []
     },
     "output_type": "display_data"
    }
   ],
   "source": [
    "Y_predict_proba_LR_pca = model_LR_pca.predict_proba(X_test_tfidf_pca)\n",
    "skplt.metrics.plot_roc_curve(Y_test, Y_predict_proba_LR_pca)\n",
    "plt.show()"
   ]
  },
  {
   "cell_type": "markdown",
   "metadata": {
    "colab_type": "text",
    "id": "LXK8EUzB5G5B"
   },
   "source": [
    "#### VI.2 Resultat de SVM\n",
    "#### VI.2.1 Tout le dictionnaire\n"
   ]
  },
  {
   "cell_type": "code",
   "execution_count": 98,
   "metadata": {
    "colab": {
     "base_uri": "https://localhost:8080/",
     "height": 168
    },
    "colab_type": "code",
    "id": "fLokVblC5G5B",
    "outputId": "f9d33133-2b84-42d7-be16-a44e5a8857b2"
   },
   "outputs": [
    {
     "name": "stdout",
     "output_type": "stream",
     "text": [
      "              precision    recall  f1-score   support\n",
      "\n",
      "         bad       0.84      0.84      0.84      1501\n",
      "        good       0.84      0.84      0.84      1499\n",
      "\n",
      "    accuracy                           0.84      3000\n",
      "   macro avg       0.84      0.84      0.84      3000\n",
      "weighted avg       0.84      0.84      0.84      3000\n",
      "\n"
     ]
    }
   ],
   "source": [
    "print(classification_report(Y_test, Y_predict_SVM_full))"
   ]
  },
  {
   "cell_type": "code",
   "execution_count": 99,
   "metadata": {
    "colab": {
     "base_uri": "https://localhost:8080/",
     "height": 295
    },
    "colab_type": "code",
    "id": "WVmQPLeX5G5D",
    "outputId": "a09c959c-905d-4d19-88f8-e5f7053ae16d"
   },
   "outputs": [
    {
     "data": {
      "image/png": "[encoded data removed]",
      "text/plain": [
       "<Figure size 432x288 with 2 Axes>"
      ]
     },
     "metadata": {
      "tags": []
     },
     "output_type": "display_data"
    }
   ],
   "source": [
    "cm = confusion_matrix(Y_test,Y_predict_SVM_full)\n",
    "cm = cm.astype('float')/cm.sum(axis=1)[:, np.newaxis]\n",
    "#Visualization of the Confusion matrix\n",
    "ax=plt.subplot(title='Confusion matrix of the Support Vector Machines on full data set');\n",
    "sns.heatmap(cm,annot=True, fmt='.4f', cmap='Blues', xticklabels=['good', 'bad'], yticklabels=['good', 'bad'])\n",
    "ax.set_xlabel('SVM Prediction');\n",
    "ax.set_ylabel('True labels');"
   ]
  },
  {
   "cell_type": "code",
   "execution_count": 100,
   "metadata": {
    "colab": {
     "base_uri": "https://localhost:8080/",
     "height": 295
    },
    "colab_type": "code",
    "id": "V2NS6-B65G5E",
    "outputId": "a8ae764b-57a3-4f8c-bd8e-191d31276f8d"
   },
   "outputs": [
    {
     "data": {
      "image/png": "[encoded data removed]",
      "text/plain": [
       "<Figure size 432x288 with 1 Axes>"
      ]
     },
     "metadata": {
      "tags": []
     },
     "output_type": "display_data"
    }
   ],
   "source": [
    "Y_predict_proba_SVM_full = model_SVM_full.predict_proba(X_test_tfidf_full)\n",
    "skplt.metrics.plot_roc_curve(Y_test, Y_predict_proba_SVM_full)\n",
    "plt.show()"
   ]
  },
  {
   "cell_type": "markdown",
   "metadata": {
    "colab_type": "text",
    "id": "dXEhke3K5G5J"
   },
   "source": [
    "#### VI.2.2  PCA data set"
   ]
  },
  {
   "cell_type": "code",
   "execution_count": 101,
   "metadata": {
    "colab": {
     "base_uri": "https://localhost:8080/",
     "height": 168
    },
    "colab_type": "code",
    "id": "w8Fty5Kv5G5J",
    "outputId": "387f7e82-c645-4896-ee70-c82ab7fd72cf"
   },
   "outputs": [
    {
     "name": "stdout",
     "output_type": "stream",
     "text": [
      "              precision    recall  f1-score   support\n",
      "\n",
      "         bad       0.83      0.83      0.83      1501\n",
      "        good       0.83      0.83      0.83      1499\n",
      "\n",
      "    accuracy                           0.83      3000\n",
      "   macro avg       0.83      0.83      0.83      3000\n",
      "weighted avg       0.83      0.83      0.83      3000\n",
      "\n"
     ]
    }
   ],
   "source": [
    "print(classification_report(Y_test, Y_predict_SVM_pca))"
   ]
  },
  {
   "cell_type": "code",
   "execution_count": 102,
   "metadata": {
    "colab": {
     "base_uri": "https://localhost:8080/",
     "height": 295
    },
    "colab_type": "code",
    "id": "r4X6kcW15G5K",
    "outputId": "24cc03bd-425c-49cb-c847-9d676d3d169d"
   },
   "outputs": [
    {
     "data": {
      "image/png": "[encoded data removed]",
      "text/plain": [
       "<Figure size 432x288 with 2 Axes>"
      ]
     },
     "metadata": {
      "tags": []
     },
     "output_type": "display_data"
    }
   ],
   "source": [
    "cm = confusion_matrix(Y_test,Y_predict_SVM_pca)\n",
    "cm = cm.astype('float')/cm.sum(axis=1)[:, np.newaxis]\n",
    "#Visualization of the Confusion matrix\n",
    "ax=plt.subplot(title='Confusion matrix of the Support Vector Machines on PCA data set');\n",
    "sns.heatmap(cm,annot=True, fmt='.4f', cmap='Blues', xticklabels=['good', 'bad'], yticklabels=['good', 'bad'])\n",
    "ax.set_xlabel('SVM Prediction');\n",
    "ax.set_ylabel('True labels');"
   ]
  },
  {
   "cell_type": "code",
   "execution_count": 103,
   "metadata": {
    "colab": {
     "base_uri": "https://localhost:8080/",
     "height": 295
    },
    "colab_type": "code",
    "id": "fvGhWKVN5G5L",
    "outputId": "1a896dfe-5b4a-4688-cd7d-1ebb0d74a660"
   },
   "outputs": [
    {
     "data": {
      "image/png": "[encoded data removed]",
      "text/plain": [
       "<Figure size 432x288 with 1 Axes>"
      ]
     },
     "metadata": {
      "tags": []
     },
     "output_type": "display_data"
    }
   ],
   "source": [
    "Y_predict_proba_SVM_pca = model_SVM_pca.predict_proba(X_test_tfidf_pca)\n",
    "skplt.metrics.plot_roc_curve(Y_test, Y_predict_proba_SVM_pca)\n",
    "plt.show()"
   ]
  },
  {
   "cell_type": "markdown",
   "metadata": {
    "colab_type": "text",
    "id": "Q_pFQC6B5G5M"
   },
   "source": [
    "## VII. Conclusion\n",
    "Apres avoir choisi de ne conserver que deux modèles qui avaient l'accuracy la plus élevé, nous venons d'effectuer deux critères de comparaison afin de définir le model le plus performant et prenant en compte bien évidemment le temps de calcul nous permettant de l'appliquer sur toute la base de donnée.à <br>\n",
    "Au vue des informations que nous apportent l'accuracy, la courbe ROC, et la matrice de confusion, nous choisissons pour la suite d'effectuer la prédiction du avec le modèle de **regression logistique**.\n",
    "\n",
    "## VIII. Les codes pour modéliser tout le jeu d'apprentisage"
   ]
  },
  {
   "cell_type": "code",
   "execution_count": 104,
   "metadata": {
    "colab": {
     "base_uri": "https://localhost:8080/",
     "height": 34
    },
    "colab_type": "code",
    "id": "BJhW-C2O5G5M",
    "outputId": "96e1e8f7-1355-4cde-c47b-8b4067008e63"
   },
   "outputs": [
    {
     "data": {
      "text/plain": [
       "23743"
      ]
     },
     "execution_count": 104,
     "metadata": {
      "tags": []
     },
     "output_type": "execute_result"
    }
   ],
   "source": [
    "### Delete all variables \n",
    "del X_train_tfidf_full, X_train_tfidf_pca, X_train_tfidf_lda, X_train_tfidf_rp, X_train_tfidf_umap\n",
    "del X_test_tfidf_full, X_test_tfidf_pca, X_test_tfidf_lda, X_test_tfidf_rp, X_test_tfidf_umap\n",
    "del Y_train, Y_test\n",
    "gc.collect()"
   ]
  },
  {
   "cell_type": "code",
   "execution_count": null,
   "metadata": {
    "colab": {},
    "colab_type": "code",
    "id": "6xJY-1qK5G5O"
   },
   "outputs": [],
   "source": [
    "### Reimport full train set\n",
    "df_train = pd.read_csv('train.txt', sep=\"\\t\",header =None)\n",
    "df_train = pd.DataFrame(df_train[0].apply(lambda x: x.split(None, 1)).tolist(), columns=['label', 'text'])\n",
    "### Rename label\n",
    "df_train['label_new'] = 'good'\n",
    "df_train['label_new'][df_train['label']=='__label__1']='bad'\n",
    "df_train.drop('label',axis = 1,inplace=True)"
   ]
  },
  {
   "cell_type": "code",
   "execution_count": null,
   "metadata": {
    "colab": {},
    "colab_type": "code",
    "id": "9Zk8TTmm5G5P"
   },
   "outputs": [],
   "source": [
    "### SIA on all train set\n",
    "train_sentiment = pd.DataFrame.from_records(df_train['text'].apply(lambda x: sia.polarity_scores(x)))\n",
    "train_sentiment['Y_train'] = df_train['label_new']\n",
    "train_sentiment['len'] = df_train['text'].apply(len)\n",
    "train_sentiment['len'] = Normalizer().fit_transform(np.array(train_sentiment['len']).reshape(1,-1)).reshape(-1,1)"
   ]
  },
  {
   "cell_type": "code",
   "execution_count": null,
   "metadata": {
    "colab": {},
    "colab_type": "code",
    "id": "N4Ndo5Ya5G5R"
   },
   "outputs": [],
   "source": [
    "### Divide train test in 4 parties to avoid the memory error\n",
    "df_train_tokens_p1 =  parallelize_dataframe(df_train['text'][0:1000000])\n",
    "df_train_tokens_p2 =  parallelize_dataframe(df_train['text'][1000000:2000000])\n",
    "df_train_tokens_p3 =  parallelize_dataframe(df_train['text'][2000000:3000000])\n",
    "df_train_tokens_p4 =  parallelize_dataframe(df_train['text'][3000000:])"
   ]
  },
  {
   "cell_type": "code",
   "execution_count": null,
   "metadata": {
    "colab": {},
    "colab_type": "code",
    "id": "FM7i91qL5G5S"
   },
   "outputs": [],
   "source": [
    "### Delete the full train set\n",
    "del df_train\n",
    "gc.collect()"
   ]
  },
  {
   "cell_type": "code",
   "execution_count": null,
   "metadata": {
    "colab": {},
    "colab_type": "code",
    "id": "qPahIR-T5G5T"
   },
   "outputs": [],
   "source": [
    "### Join all sub train sets to one\n",
    "df_train_tokens = pd.concat([df_train_tokens_p1, df_train_tokens_p2, df_train_tokens_p3, df_train_tokens_p4], axis = 0)\n",
    "### Clear memory\n",
    "del df_train_tokens_p1, df_train_tokens_p2, df_train_tokens_p3, df_train_tokens_p4\n",
    "gc.collect()"
   ]
  },
  {
   "cell_type": "code",
   "execution_count": null,
   "metadata": {
    "colab": {},
    "colab_type": "code",
    "id": "vzy5U5Iw5G5U"
   },
   "outputs": [],
   "source": [
    "### Create a dictionary on train test\n",
    "df_train_dict = gensim.corpora.Dictionary(df_train_tokens)\n",
    "df_train_dict.filter_extremes(keep_n=10000)"
   ]
  },
  {
   "cell_type": "code",
   "execution_count": null,
   "metadata": {
    "colab": {},
    "colab_type": "code",
    "id": "Oxk2-2QI5G5W"
   },
   "outputs": [],
   "source": [
    "### Divide train test in 4 again to tokenize\n",
    "df_train_tokens_p1 = df_train_tokens[0:900000]\n",
    "df_train_tokens_p2 = df_train_tokens[900000:1800000]\n",
    "df_train_tokens_p3 = df_train_tokens[1800000:2700000]\n",
    "df_train_tokens_p4 = df_train_tokens[2700000:]\n",
    "del df_train_tokens\n",
    "gc.collect()"
   ]
  },
  {
   "cell_type": "code",
   "execution_count": null,
   "metadata": {
    "colab": {},
    "colab_type": "code",
    "id": "81knGdjp5G5Y"
   },
   "outputs": [],
   "source": [
    "X_train_corpus  = [df_train_dict.doc2bow(doc) for doc in df_train_tokens_p1]\n",
    "X_train_tfidf = gensim.models.TfidfModel(X_train_corpus, df_train_dict)\n",
    "\n",
    "### transform data to spare matrix in order to reduce memory\n",
    "X_train_tfidf_full_p1 = gensim.matutils.corpus2csc(X_train_tfidf[X_train_corpus], num_terms=len(df_train_dict)).T\n",
    "del df_train_tokens_p1\n",
    "gc.collect()"
   ]
  },
  {
   "cell_type": "code",
   "execution_count": null,
   "metadata": {
    "colab": {},
    "colab_type": "code",
    "id": "bl8QO4HY5G5Z"
   },
   "outputs": [],
   "source": [
    "X_train_corpus  = [df_train_dict.doc2bow(doc) for doc in df_train_tokens_p2]\n",
    "X_train_tfidf = gensim.models.TfidfModel(X_train_corpus, df_train_dict)\n",
    "\n",
    "### transform data to spare matrix in order to reduce memory\n",
    "X_train_tfidf_full_p2 = gensim.matutils.corpus2csc(X_train_tfidf[X_train_corpus], num_terms=len(df_train_dict)).T\n",
    "del df_train_tokens_p2\n",
    "gc.collect()"
   ]
  },
  {
   "cell_type": "code",
   "execution_count": null,
   "metadata": {
    "colab": {},
    "colab_type": "code",
    "id": "PTMzFedQ5G5a"
   },
   "outputs": [],
   "source": [
    "X_train_corpus  = [df_train_dict.doc2bow(doc) for doc in df_train_tokens_p3]\n",
    "X_train_tfidf = gensim.models.TfidfModel(X_train_corpus, df_train_dict)\n",
    "\n",
    "### transform data to spare matrix in order to reduce memory\n",
    "X_train_tfidf_full_p3 = gensim.matutils.corpus2csc(X_train_tfidf[X_train_corpus], num_terms=len(df_train_dict)).T\n",
    "del df_train_tokens_p3\n",
    "gc.collect()"
   ]
  },
  {
   "cell_type": "code",
   "execution_count": null,
   "metadata": {
    "colab": {},
    "colab_type": "code",
    "id": "zRuzclQg5G5b"
   },
   "outputs": [],
   "source": [
    "X_train_corpus  = [df_train_dict.doc2bow(doc) for doc in df_train_tokens_p4]\n",
    "X_train_tfidf = gensim.models.TfidfModel(X_train_corpus, df_train_dict)\n",
    "\n",
    "### transform data to spare matrix in order to reduce memory\n",
    "X_train_tfidf_full_p4 = gensim.matutils.corpus2csc(X_train_tfidf[X_train_corpus], num_terms=len(df_train_dict)).T\n",
    "del df_train_tokens_p4\n",
    "gc.collect()"
   ]
  },
  {
   "cell_type": "code",
   "execution_count": null,
   "metadata": {
    "colab": {},
    "colab_type": "code",
    "id": "MxyiIrI35G5c"
   },
   "outputs": [],
   "source": [
    "del df_train, df_train_tokens\n",
    "gc.collect()"
   ]
  },
  {
   "cell_type": "code",
   "execution_count": null,
   "metadata": {
    "colab": {},
    "colab_type": "code",
    "id": "9Hjs5unl5G5e"
   },
   "outputs": [],
   "source": [
    "### Join all sub tfidf matrices\n",
    "X_train_tfidf_full = sparse.vstack([X_train_tfidf_full_p1,X_train_tfidf_full_p2,X_train_tfidf_full_p3,X_train_tfidf_full_p4])"
   ]
  },
  {
   "cell_type": "code",
   "execution_count": null,
   "metadata": {
    "colab": {},
    "colab_type": "code",
    "id": "JcTcNluW5G5f"
   },
   "outputs": [],
   "source": [
    "### add others statistic variables (SIA and length scaled)\n",
    "X_train_tfidf_full = sparse.hstack([train_sentiment[['neg','neu','pos','compound','len']], X_train_tfidf_full])"
   ]
  },
  {
   "cell_type": "code",
   "execution_count": null,
   "metadata": {
    "colab": {},
    "colab_type": "code",
    "id": "pr5r4EcP5G5g"
   },
   "outputs": [],
   "source": [
    "### assign Y_train\n",
    "Y_train = train_sentiment['Y_train']"
   ]
  },
  {
   "cell_type": "code",
   "execution_count": null,
   "metadata": {
    "colab": {},
    "colab_type": "code",
    "id": "4eHBQ9sM5G5h"
   },
   "outputs": [],
   "source": [
    "### Import test set\n",
    "df_test = pd.read_csv('test.txt', sep=\"\\t\",header =None)\n",
    "df_test = pd.DataFrame(df_test[0].apply(lambda x: x.split(None, 1)).tolist(), columns=['label', 'text'])\n",
    "df_test['label_new'] = 'good'\n",
    "df_test['label_new'][df_test['label']=='__label__1']='bad'\n",
    "df_test.drop('label',axis = 1,inplace=True)"
   ]
  },
  {
   "cell_type": "code",
   "execution_count": null,
   "metadata": {
    "colab": {},
    "colab_type": "code",
    "id": "cD__lwmK5G5i"
   },
   "outputs": [],
   "source": [
    "### SIA on test set\n",
    "test_sentiment = pd.DataFrame.from_records(df_test['text'].apply(lambda x: sia.polarity_scores(x)))\n",
    "test_sentiment['Y_test'] = df_test['label_new']\n",
    "test_sentiment['len'] = df_test['text'].apply(len)\n",
    "test_sentiment['len'] = Normalizer().fit_transform(np.array(test_sentiment['len']).reshape(1,-1)).reshape(-1,1)"
   ]
  },
  {
   "cell_type": "code",
   "execution_count": null,
   "metadata": {
    "colab": {},
    "colab_type": "code",
    "id": "37kY3q7x5G5j"
   },
   "outputs": [],
   "source": [
    "### tokenize test set\n",
    "df_test_tokens =  parallelize_dataframe(df_test['text'])\n",
    "del df_test\n",
    "gc.collect()"
   ]
  },
  {
   "cell_type": "code",
   "execution_count": null,
   "metadata": {
    "colab": {},
    "colab_type": "code",
    "id": "1xDabYJS5G5k"
   },
   "outputs": [],
   "source": [
    "### transform test set to TFIDF matrix\n",
    "X_test_corpus  = [df_train_dict.doc2bow(doc) for doc in df_test_tokens]\n",
    "X_test_tfidf = gensim.models.TfidfModel(X_test_corpus, df_train_dict)\n",
    "\n",
    "### transform data to spare matrix in order to reduce memory\n",
    "X_test_tfidf_full = gensim.matutils.corpus2csc(X_test_tfidf[X_test_corpus], num_terms=len(df_train_dict)).T\n",
    "del df_test_tokens_p1, X_test_tfidf, X_test_corpus\n",
    "gc.collect()"
   ]
  },
  {
   "cell_type": "code",
   "execution_count": null,
   "metadata": {
    "colab": {},
    "colab_type": "code",
    "id": "XF-x-E5Y5G5k"
   },
   "outputs": [],
   "source": [
    "### Add others statistic\n",
    "X_test_tfidf_full = sparse.hstack([test_sentiment[['neg','neu','pos','compound','len']], X_test_tfidf_full])"
   ]
  },
  {
   "cell_type": "code",
   "execution_count": null,
   "metadata": {
    "colab": {},
    "colab_type": "code",
    "id": "SArOUNTB5G5l"
   },
   "outputs": [],
   "source": [
    "### Train Logistic regression model on all train set\n",
    "p = time.time()\n",
    "model_LR = LogisticRegression(random_state=0, solver='newton-cg', multi_class='multinomial')\n",
    "model_LR.fit(X_train_tfidf_full,Y_train)\n",
    "time_LR_full = time.time()-p"
   ]
  },
  {
   "cell_type": "code",
   "execution_count": null,
   "metadata": {
    "colab": {},
    "colab_type": "code",
    "id": "-ujaLNYQ5G5m"
   },
   "outputs": [],
   "source": [
    "### Predict Y_test\n",
    "Y_predict_full = model_LR.predict(X_test_tfidf_full)\n",
    "\n",
    "Y_test = test_sentiment['Y_test']"
   ]
  },
  {
   "cell_type": "code",
   "execution_count": null,
   "metadata": {
    "colab": {},
    "colab_type": "code",
    "id": "4Xj7iuXz5G5o"
   },
   "outputs": [],
   "source": [
    "accuracy_score(Y_test, Y_predict_full)"
   ]
  },
  {
   "cell_type": "code",
   "execution_count": null,
   "metadata": {
    "colab": {},
    "colab_type": "code",
    "id": "UgeINeHB5G5p"
   },
   "outputs": [],
   "source": [
    "print(classification_report(Y_test, Y_predict_full))"
   ]
  },
  {
   "cell_type": "code",
   "execution_count": null,
   "metadata": {
    "colab": {},
    "colab_type": "code",
    "id": "mf4TE1GI5G5q"
   },
   "outputs": [],
   "source": [
    "cm = confusion_matrix(Y_test,Y_predict_full)\n",
    "cm = cm.astype('float')/cm.sum(axis=1)[:, np.newaxis]\n",
    "#Visualization of the Confusion matrix\n",
    "ax=plt.subplot(title='Confusion matrix of the Logistic Regression on all train set');\n",
    "sns.heatmap(cm,annot=True, fmt='.4f', cmap='Blues', xticklabels=['good', 'bad'], yticklabels=['good', 'bad'])\n",
    "ax.set_xlabel('LR Prediction');\n",
    "ax.set_ylabel('True labels');"
   ]
  }
 ],
 "metadata": {
  "accelerator": "GPU",
  "colab": {
   "collapsed_sections": [],
   "name": "final_project.ipynb",
   "provenance": []
  },
  "kernelspec": {
   "display_name": "Python 3",
   "language": "python",
   "name": "python3"
  },
  "language_info": {
   "codemirror_mode": {
    "name": "ipython",
    "version": 3
   },
   "file_extension": ".py",
   "mimetype": "text/x-python",
   "name": "python",
   "nbconvert_exporter": "python",
   "pygments_lexer": "ipython3",
   "version": "3.7.7"
  }
 },
 "nbformat": 4,
 "nbformat_minor": 4
}
